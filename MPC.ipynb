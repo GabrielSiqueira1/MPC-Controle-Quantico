{
 "cells": [
  {
   "cell_type": "markdown",
   "id": "a6c75834-2cf5-4e07-9a34-10e1ccc983f5",
   "metadata": {},
   "source": [
    "Utilização do modelo preditivo: Para esta etapa do trabalho é necessário estipular um valor suficiente para que transforme a curva estudada em uma objetivo. Para isso, confiaremos e consideraremos a equação de Schrödinger no que diz respeito ao potencial harmônico, V(x,u(t))."
   ]
  },
  {
   "cell_type": "code",
   "execution_count": 1,
   "id": "5a6e4b8c",
   "metadata": {},
   "outputs": [],
   "source": [
    "# Bilbiotecas para auxílio na programação matemática\n",
    "import math, sys \n",
    "import numpy as np\n",
    "import sympy as sp\n",
    "\n",
    "from scipy import sparse # Produção das diagonais das matrizes\n",
    "from scipy.sparse import diags \n",
    "\n",
    "# Plotagem 2D e 3D\n",
    "from mpl_toolkits.mplot3d import Axes3D\n",
    "import matplotlib.pyplot as plt\n",
    "from matplotlib import cm\n",
    "\n",
    "\n",
    "from os import path # Suficiente para manipulação de arquivos\n",
    "    \n",
    "# Para solução exata\n",
    "from scipy.special import hermite\n",
    "from math import factorial\n",
    "\n",
    "%matplotlib inline\n",
    "count = 0\n",
    "\n",
    "# Para otimização dos sistemas\n",
    "from scipy import optimize"
   ]
  },
  {
   "cell_type": "code",
   "execution_count": 2,
   "id": "f3a9639c",
   "metadata": {},
   "outputs": [],
   "source": [
    "def N(n):\n",
    "    return 1*1./np.sqrt(np.sqrt(np.pi)*2**n*factorial(n))\n",
    "\n",
    "def psi(n, x):\n",
    "    Hn=hermite(n)\n",
    "    Px = N(n)*Hn(x)*np.exp(-0.5*x**2)\n",
    "    return Px"
   ]
  },
  {
   "cell_type": "code",
   "execution_count": 3,
   "id": "f8e620de",
   "metadata": {},
   "outputs": [],
   "source": [
    "'''\n",
    "Método de Crank-Nicolson para a solução da equação de Schrödinger em uma única dimensão\n",
    "    ih * u_t = h_2/2m * u_xx + V_xt * u\n",
    "\n",
    "Com as condições de contorno não incluídas nessa etapa para que o controle preditivo faça as alterações\n",
    "Com a equação inicial sendo decidida pelos polinômios de hermite de primeiro e segundo grau\n",
    "\n",
    "u(x,0) = 0.80 * psi(0, x) + 0.60 * psi(1,x)\n",
    "\n",
    "A interpretação foi ajustada a partir do código em python da Msc. Mirian Silva\n",
    "'''\n",
    "\n",
    "def CrankNicolson(M, O = 0, L = 1, T = 0.5):\n",
    "    N = 1000 #São os pontos no intervalo de tempo\n",
    "    \n",
    "    #Pensando no poço quadrado infinito, temos essas duas limitações, onde L varia\n",
    "    x0, xL = O, L\n",
    "\n",
    "    P = 3.141111111111111111111111111\n",
    "    #Discretização espacial\n",
    "    dx = (xL - x0)/(P*M-1) \n",
    "\n",
    "    #Discretização temporal\n",
    "    t0, tF = 0, T\n",
    "    dt = (tF - t0)/(P*N-1)\n",
    "\n",
    "    #Retorno dos números em um intervalo\n",
    "    xs = np.linspace(x0, xL, M)\n",
    "    ts = np.linspace(t0, tF, N)\n",
    "    us = np.linspace(-5, 5, 1000)\n",
    "\n",
    "    #Suponha um oscilador harmônico simples\n",
    "    hbar = 1\n",
    "    m = 1\n",
    "    w = np.pi\n",
    "    V = 1/2*m*w**2*xs**2+us #V(x,u(t))\n",
    "\n",
    "    #A partir da demonstração\n",
    "    a = hbar/(4*m*dx**2) \n",
    "    b = 1j*hbar/dt - 2*a - 1/2*V\n",
    "    c = 1j*hbar/dt + 2*a + 1/2*V\n",
    "\n",
    "    #Obtenção da matriz\n",
    "    ##Diagonais principais\n",
    "    diagPrincipalA = b*np.ones((1,M)) #Cria uma matriz de 1's\n",
    "    diagPrincipalB = c*np.ones((1,M))\n",
    "\n",
    "    ##Diagonais secundárias, tem um tamanho a menos\n",
    "    diagSecundariaA = a*np.ones((1,M-1))\n",
    "    diagSecundariaB = (-a)*np.ones((1,M-1))\n",
    "\n",
    "    diagonaisA = [diagPrincipalA, diagSecundariaA, diagSecundariaA]\n",
    "    matrizA = sparse.diags(diagonaisA, [0, -1, 1], shape=(M,M)).toarray()\n",
    "    \n",
    "    diagonaisB = [diagPrincipalB, diagSecundariaB, diagSecundariaB]         \n",
    "    matrizB = sparse.diags(diagonaisB, [0, -1, 1], shape=(M,M)).toarray()\n",
    "    \n",
    "    #Obtenção da matriz psi (Ela acumulará para o psi futuro)\n",
    "    ps = np.zeros((M, N))\n",
    "    psi_c = np.zeros((M, N))\n",
    "\n",
    "    #Condição inicial\n",
    "    ps[:,0] = 0.80 * psi(0, xs) + 0.60 * psi(1,xs) #A primeira coluna da matriz terá a equação inicial, em todas as posições\n",
    "    psi_c = ps.astype(complex)\n",
    "    #For para o acúmulo de resultados\n",
    "    for k in range(1,N):\n",
    "        b = np.matmul(matrizB, np.array(psi_c[0:M, k-1])) #Multiplicação de arrays já que houve uma conversão anterior\n",
    "        psi_c[0:M, k] = np.linalg.solve(matrizA, b) #Matlab: x = A\\b\n",
    "        #plt.plot(xs, np.absolute(psi_c[0:M, k])**2)\n",
    "    return (psi_c, ts, xs)\n",
    "\n",
    "psi, ts, xs = CrankNicolson(M = 1000, O = -5, L = 5, T = 10)"
   ]
  },
  {
   "cell_type": "code",
   "execution_count": 4,
   "id": "067daf75",
   "metadata": {},
   "outputs": [],
   "source": [
    "def psixt(n, x, t):\n",
    "    Hn=hermite(n)\n",
    "    a = complex(0,1)\n",
    "    #print(type(x))\n",
    "    Pxt = N(n)*Hn(x.real)*np.exp(-0.5*x**2)*np.exp(-a*(n+1/2)*t*np.pi)\n",
    "    return Pxt"
   ]
  },
  {
   "cell_type": "code",
   "execution_count": 5,
   "id": "29ab3c66",
   "metadata": {},
   "outputs": [],
   "source": [
    "def ExactSolution(M, T = 1000, L = 5):\n",
    "    N = 1000\n",
    "\n",
    "    xs = np.linspace(-5, L, M)\n",
    "    ts = np.linspace(0, N/100, T)\n",
    "    \n",
    "    psiExato = np.zeros((M, N)).astype(complex)\n",
    "    r=0\n",
    "    for i in np.arange(-5, 5, 0.01):\n",
    "        for j in np.arange(0, 10, 0.01):\n",
    "            psiExato[r][int(round(j*100,1))] = 1/np.sqrt(2)*psixt(0,i,j)+1/np.sqrt(2)*psixt(1,i,j)\n",
    "        r+=1\n",
    "    \n",
    "    return (psiExato, ts, xs)"
   ]
  },
  {
   "cell_type": "code",
   "execution_count": 6,
   "id": "2f39bd73",
   "metadata": {},
   "outputs": [],
   "source": [
    "vetor = []"
   ]
  },
  {
   "cell_type": "code",
   "execution_count": 7,
   "id": "29a41694-b8b3-43dd-aabd-85903f52d9bb",
   "metadata": {},
   "outputs": [
    {
     "name": "stdout",
     "output_type": "stream",
     "text": [
      "(-1.2458470516880618e-05+1.970887281154517e-06j)\n"
     ]
    }
   ],
   "source": [
    "psi_d = np.zeros((1000,1000))\n",
    "psi_d, p, r = ExactSolution(M = 1000)\n",
    "print(psi_d[1][3])"
   ]
  },
  {
   "cell_type": "code",
   "execution_count": 8,
   "id": "a38cfd17-9105-4232-8812-702a5b6ffa11",
   "metadata": {},
   "outputs": [
    {
     "name": "stdout",
     "output_type": "stream",
     "text": [
      "(1.1115236002041986e-06+3.7598140550895194e-06j)\n"
     ]
    }
   ],
   "source": [
    "print(psi[2][3])"
   ]
  },
  {
   "cell_type": "code",
   "execution_count": 9,
   "id": "ed6b038a-314f-476c-b032-717db099b7b7",
   "metadata": {},
   "outputs": [
    {
     "name": "stdout",
     "output_type": "stream",
     "text": [
      "(-1.3064644501103767e-05+2.0672680490014274e-06j)\n"
     ]
    }
   ],
   "source": [
    "print(psi_d[2][3])"
   ]
  },
  {
   "cell_type": "code",
   "execution_count": 12,
   "id": "4fa68253",
   "metadata": {},
   "outputs": [],
   "source": [
    "def FuncDE(x):\n",
    "    return 1/np.sqrt(2) * psixt(0, x[0], x[1]) + 1/np.sqrt(2) * psixt(1, x[0], x[1])\n",
    "\n",
    "#Avaliação do gradiente\n",
    "def gradiente(x, funcDA):\n",
    "    h = 0.01\n",
    "    grad = []\n",
    "    \n",
    "    for i in range(len(x)):\n",
    "        xh = x.copy()\n",
    "        xh[i] = xh[i] + 0.0 + h\n",
    "        # Deve haver uma conversão de posição da matriz para ponto da curva\n",
    "        dx = (FuncDE(xh)-funcDA[int(np.round(((xh[0]+5)*100),0))][int(np.round((xh[1]*100),0))]) - (FuncDE(x)-funcDA[int(np.round(((xh[0]+5)*100),0))][int(np.round((x[1]*100),0))])/h\n",
    "        grad.append(dx.real)\n",
    "    return grad\n",
    "\n",
    "#Método gradiente\n",
    "def methodGrad(x):\n",
    "    k = 0\n",
    "    kmax = 2000\n",
    "    #x = np.array([-3/2., 5/2.])\n",
    "    \n",
    "    while(k < kmax):\n",
    "        d = -1*np.array(gradiente(x, psi))\n",
    "        alpha = 0.01\n",
    "        x = x + alpha*d\n",
    "        k += 1\n",
    "        \n",
    "    x_otimo = x\n",
    "    return x_otimo"
   ]
  },
  {
   "cell_type": "code",
   "execution_count": 13,
   "id": "d3246a43-a20a-4ff2-b425-e634d8a0235b",
   "metadata": {},
   "outputs": [
    {
     "name": "stdout",
     "output_type": "stream",
     "text": [
      "[-5.00356543e+00 -4.16974057e-03]\n"
     ]
    }
   ],
   "source": [
    "x = np.array([-5.0, 0.0])\n",
    "print(methodGrad(x))"
   ]
  },
  {
   "cell_type": "markdown",
   "id": "148932e4-2d00-4b04-8941-452d476c0edc",
   "metadata": {},
   "source": [
    "Considerando que a nossa função objetivo é a diferença entre a função exata e o psi estudado até o momento, utilizamos o método gradiente para estimar o valor de x e de t para que alcance o valor ideal. No primeiro teste considerou-se -5 e 0, onde -5 envolve o valor de x e de u, já que V, o potêncial harmônico depende destes. Então, para que se alcance o valor exato é preciso variar o x e o t em pequenos valores, em intervalos de $10^{-3}$."
   ]
  },
  {
   "cell_type": "markdown",
   "id": "1a09565c-e333-43fb-8c27-1229f9cd38a8",
   "metadata": {},
   "source": [
    "Para o algoritmo MPC é necessário realizar o método gradiente algumas vezes e utilizar sempre o primeiro termo e posteriormente fazê-lo para todo o tempo estudado. "
   ]
  },
  {
   "cell_type": "code",
   "execution_count": 20,
   "id": "232bd9c4-a310-4b2d-b186-7a9f04309bbc",
   "metadata": {},
   "outputs": [],
   "source": [
    "i = 0\n",
    "for i in range(i+3):\n",
    "    #Deve-se utilizar Crank-Nicolson antes de entrar no método gradiente\n",
    "    vetor.append(methodGrad(x))\n",
    "    x[0] = x[0] + 0.01\n",
    "A = vetor[0]"
   ]
  },
  {
   "cell_type": "markdown",
   "id": "7de8ebe6-285f-46b8-aa15-6eb3bfcd131c",
   "metadata": {},
   "source": [
    "Toda vez que obtemos um conjunto de valores do método gradiente, utilizamos o primeiro para realizar a operação $$\\psi_{i+1}=V[A] \\cdot \\psi_i$$ Esse próximo fator será utilizado no Crank-Nicolson e o método gradiente se tornará necessário."
   ]
  },
  {
   "cell_type": "code",
   "execution_count": 22,
   "id": "d8be7d9d-93c6-4f8a-97f1-840df67231fa",
   "metadata": {},
   "outputs": [],
   "source": [
    "def CrankNicolsonSimplificado(M, psi_c, O = 0, L = 1, T = 0.5):\n",
    "    N = 1000 #São os pontos no intervalo de tempo\n",
    "    \n",
    "    #Pensando no poço quadrado infinito, temos essas duas limitações, onde L varia\n",
    "    x0, xL = O, L\n",
    "\n",
    "    P = 3.141111111111111111111111111\n",
    "    #Discretização espacial\n",
    "    dx = (xL - x0)/(P*M-1) \n",
    "\n",
    "    #Discretização temporal\n",
    "    t0, tF = 0, T\n",
    "    dt = (tF - t0)/(P*N-1)\n",
    "\n",
    "    #Retorno dos números em um intervalo\n",
    "    xs = np.linspace(x0, xL, M)\n",
    "    ts = np.linspace(t0, tF, N)\n",
    "    us = np.linspace(-5, 5, 1000)\n",
    "\n",
    "    #Suponha um oscilador harmônico simples\n",
    "    hbar = 1\n",
    "    m = 1\n",
    "    w = np.pi\n",
    "    V = 1/2*m*w**2*xs**2+us #V(x,u(t))\n",
    "\n",
    "    #A partir da demonstração\n",
    "    a = hbar/(4*m*dx**2) \n",
    "    b = 1j*hbar/dt - 2*a - 1/2*V\n",
    "    c = 1j*hbar/dt + 2*a + 1/2*V\n",
    "\n",
    "    #Obtenção da matriz\n",
    "    ##Diagonais principais\n",
    "    diagPrincipalA = b*np.ones((1,M)) #Cria uma matriz de 1's\n",
    "    diagPrincipalB = c*np.ones((1,M))\n",
    "\n",
    "    ##Diagonais secundárias, tem um tamanho a menos\n",
    "    diagSecundariaA = a*np.ones((1,M-1))\n",
    "    diagSecundariaB = (-a)*np.ones((1,M-1))\n",
    "\n",
    "    diagonaisA = [diagPrincipalA, diagSecundariaA, diagSecundariaA]\n",
    "    matrizA = sparse.diags(diagonaisA, [0, -1, 1], shape=(M,M)).toarray()\n",
    "    \n",
    "    diagonaisB = [diagPrincipalB, diagSecundariaB, diagSecundariaB]         \n",
    "    matrizB = sparse.diags(diagonaisB, [0, -1, 1], shape=(M,M)).toarray()\n",
    "    \n",
    "    #Obtenção da matriz psi (Ela acumulará para o psi futuro)\n",
    "    ps = np.zeros((M, N))\n",
    "    \n",
    "    #For para o acúmulo de resultados\n",
    "    for k in range(1,N):\n",
    "        b = np.matmul(matrizB, np.array(psi_c[0:M, k-1])) #Multiplicação de arrays já que houve uma conversão anterior\n",
    "        psi_c[0:M, k] = np.linalg.solve(matrizA, b) #Matlab: x = A\\b\n",
    "        #plt.plot(xs, np.absolute(psi_c[0:M, k])**2)\n",
    "    return (psi_c, ts, xs)"
   ]
  }
 ],
 "metadata": {
  "kernelspec": {
   "display_name": "Python 3 (ipykernel)",
   "language": "python",
   "name": "python3"
  },
  "language_info": {
   "codemirror_mode": {
    "name": "ipython",
    "version": 3
   },
   "file_extension": ".py",
   "mimetype": "text/x-python",
   "name": "python",
   "nbconvert_exporter": "python",
   "pygments_lexer": "ipython3",
   "version": "3.9.12"
  }
 },
 "nbformat": 4,
 "nbformat_minor": 5
}
