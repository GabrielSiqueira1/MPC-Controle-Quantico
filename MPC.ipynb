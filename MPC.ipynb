{
 "cells": [
  {
   "cell_type": "markdown",
   "id": "a6c75834-2cf5-4e07-9a34-10e1ccc983f5",
   "metadata": {},
   "source": [
    "Utilização do modelo preditivo: Para esta etapa do trabalho é necessário estipular um valor suficiente para que transforme a curva estudada em uma objetivo. Para isso, confiaremos e consideraremos a equação de Schrödinger no que diz respeito ao potencial harmônico, V(x,u(t))."
   ]
  },
  {
   "cell_type": "code",
   "execution_count": 1,
   "id": "5a6e4b8c",
   "metadata": {},
   "outputs": [],
   "source": [
    "# Bilbiotecas para auxílio na programação matemática\n",
    "import math, sys \n",
    "import numpy as np\n",
    "import sympy as sp\n",
    "\n",
    "from scipy import sparse # Produção das diagonais das matrizes\n",
    "from scipy.sparse import diags \n",
    "\n",
    "# Plotagem 2D e 3D\n",
    "from mpl_toolkits.mplot3d import Axes3D\n",
    "import matplotlib.pyplot as plt\n",
    "from matplotlib import cm\n",
    "\n",
    "\n",
    "from os import path # Suficiente para manipulação de arquivos\n",
    "    \n",
    "# Para solução exata\n",
    "from scipy.special import hermite\n",
    "from math import factorial\n",
    "\n",
    "%matplotlib inline\n",
    "count = 0\n",
    "\n",
    "# Para otimização dos sistemas\n",
    "from scipy import optimize"
   ]
  },
  {
   "cell_type": "code",
   "execution_count": 48,
   "id": "f3a9639c",
   "metadata": {},
   "outputs": [],
   "source": [
    "def N(n):\n",
    "    return 1*1./np.sqrt(np.sqrt(np.pi)*2**n*factorial(n))\n",
    "\n",
    "def psi(n, x):\n",
    "    Hn=hermite(n)\n",
    "    Px = N(n)*Hn(x)*np.exp(-0.5*x**2)\n",
    "    return Px"
   ]
  },
  {
   "cell_type": "code",
   "execution_count": 3,
   "id": "f8e620de",
   "metadata": {},
   "outputs": [],
   "source": [
    "'''\n",
    "Método de Crank-Nicolson para a solução da equação de Schrödinger em uma única dimensão\n",
    "    ih * u_t = h_2/2m * u_xx + V_xt * u\n",
    "\n",
    "Com as condições de contorno não incluídas nessa etapa para que o controle preditivo faça as alterações\n",
    "Com a equação inicial sendo decidida pelos polinômios de hermite de primeiro e segundo grau\n",
    "\n",
    "u(x,0) = 0.80 * psi(0, x) + 0.60 * psi(1,x)\n",
    "\n",
    "A interpretação foi ajustada a partir do código em python da Msc. Mirian Silva\n",
    "'''\n",
    "\n",
    "def CrankNicolson(M, O = 0, L = 1, T = 0.5):\n",
    "    N = 1000 #São os pontos no intervalo de tempo\n",
    "    \n",
    "    #Pensando no poço quadrado infinito, temos essas duas limitações, onde L varia\n",
    "    x0, xL = O, L\n",
    "\n",
    "    P = 3.141111111111111111111111111\n",
    "    #Discretização espacial\n",
    "    dx = (xL - x0)/(P*M-1) \n",
    "\n",
    "    #Discretização temporal\n",
    "    t0, tF = 0, T\n",
    "    dt = (tF - t0)/(P*N-1)\n",
    "\n",
    "    #Retorno dos números em um intervalo\n",
    "    xs = np.linspace(x0, xL, M)\n",
    "    ts = np.linspace(t0, tF, N)\n",
    "    us = np.linspace(-5, 5, 1000)\n",
    "\n",
    "    #Suponha um oscilador harmônico simples\n",
    "    hbar = 1\n",
    "    m = 1\n",
    "    w = np.pi\n",
    "    V = 1/2*m*w**2*xs**2+us #V(x,u(t))\n",
    "\n",
    "    #A partir da demonstração\n",
    "    a = hbar/(4*m*dx**2) \n",
    "    b = 1j*hbar/dt - 2*a - 1/2*V\n",
    "    c = 1j*hbar/dt + 2*a + 1/2*V\n",
    "\n",
    "    #Obtenção da matriz\n",
    "    ##Diagonais principais\n",
    "    diagPrincipalA = b*np.ones((1,M)) #Cria uma matriz de 1's\n",
    "    diagPrincipalB = c*np.ones((1,M))\n",
    "\n",
    "    ##Diagonais secundárias, tem um tamanho a menos\n",
    "    diagSecundariaA = a*np.ones((1,M-1))\n",
    "    diagSecundariaB = (-a)*np.ones((1,M-1))\n",
    "\n",
    "    diagonaisA = [diagPrincipalA, diagSecundariaA, diagSecundariaA]\n",
    "    matrizA = sparse.diags(diagonaisA, [0, -1, 1], shape=(M,M)).toarray()\n",
    "    \n",
    "    diagonaisB = [diagPrincipalB, diagSecundariaB, diagSecundariaB]         \n",
    "    matrizB = sparse.diags(diagonaisB, [0, -1, 1], shape=(M,M)).toarray()\n",
    "    \n",
    "    #Obtenção da matriz psi (Ela acumulará para o psi futuro)\n",
    "    ps = np.zeros((M, N))\n",
    "    psi_c = np.zeros((M, N))\n",
    "\n",
    "    #Condição inicial\n",
    "    ps[:,0] = 0.80 * psi(0, xs) + 0.60 * psi(1,xs) #A primeira coluna da matriz terá a equação inicial, em todas as posições\n",
    "    psi_c = ps.astype(complex)\n",
    "    #For para o acúmulo de resultados\n",
    "    for k in range(1,N):\n",
    "        b = np.matmul(matrizB, np.array(psi_c[0:M, k-1])) #Multiplicação de arrays já que houve uma conversão anterior\n",
    "        psi_c[0:M, k] = np.linalg.solve(matrizA, b) #Matlab: x = A\\b\n",
    "        #plt.plot(xs, np.absolute(psi_c[0:M, k])**2)\n",
    "    return (psi_c, ts, xs)\n",
    "\n",
    "psi, ts, xs = CrankNicolson(M = 1000, O = -5, L = 5, T = 10)"
   ]
  },
  {
   "cell_type": "code",
   "execution_count": 49,
   "id": "067daf75",
   "metadata": {},
   "outputs": [],
   "source": [
    "def psixt(n, x, t):\n",
    "    Hn=hermite(n)\n",
    "    a = complex(0,1)\n",
    "    #print(type(n))\n",
    "    Pxt = N(n)*Hn(x.real)*np.exp(-0.5*x**2)*np.exp(-a*(n+1/2)*t*np.pi)\n",
    "    return Pxt"
   ]
  },
  {
   "cell_type": "code",
   "execution_count": 5,
   "id": "29ab3c66",
   "metadata": {},
   "outputs": [],
   "source": [
    "def ExactSolution(M, T = 1000, L = 5):\n",
    "    N = 1000\n",
    "\n",
    "    xs = np.linspace(-5, L, M)\n",
    "    ts = np.linspace(0, N/100, T)\n",
    "    \n",
    "    psiExato = np.zeros((M, N)).astype(complex)\n",
    "    r=0\n",
    "    for i in np.arange(-5, 5, 0.01):\n",
    "        for j in np.arange(0, 10, 0.01):\n",
    "            psiExato[r][int(round(j*100,1))] = 1/np.sqrt(2)*psixt(0,i,j)+1/np.sqrt(2)*psixt(1,i,j)\n",
    "        r+=1\n",
    "    \n",
    "    return (psiExato, ts, xs)"
   ]
  },
  {
   "cell_type": "code",
   "execution_count": 6,
   "id": "2f39bd73",
   "metadata": {},
   "outputs": [],
   "source": [
    "vetor = []"
   ]
  },
  {
   "cell_type": "code",
   "execution_count": 7,
   "id": "29a41694-b8b3-43dd-aabd-85903f52d9bb",
   "metadata": {},
   "outputs": [
    {
     "name": "stdout",
     "output_type": "stream",
     "text": [
      "(-1.2458470516880618e-05+1.970887281154517e-06j)\n"
     ]
    }
   ],
   "source": [
    "psi_d = np.zeros((1000,1000))\n",
    "psi_d, p, r = ExactSolution(M = 1000)\n",
    "print(psi_d[1][3])"
   ]
  },
  {
   "cell_type": "code",
   "execution_count": 8,
   "id": "a38cfd17-9105-4232-8812-702a5b6ffa11",
   "metadata": {},
   "outputs": [
    {
     "name": "stdout",
     "output_type": "stream",
     "text": [
      "(1.1115236002041986e-06+3.7598140550895194e-06j)\n"
     ]
    }
   ],
   "source": [
    "print(psi[2][3])"
   ]
  },
  {
   "cell_type": "code",
   "execution_count": 9,
   "id": "ed6b038a-314f-476c-b032-717db099b7b7",
   "metadata": {},
   "outputs": [
    {
     "name": "stdout",
     "output_type": "stream",
     "text": [
      "(-1.3064644501103767e-05+2.0672680490014274e-06j)\n"
     ]
    }
   ],
   "source": [
    "print(psi_d[2][3])"
   ]
  },
  {
   "cell_type": "code",
   "execution_count": 10,
   "id": "4fa68253",
   "metadata": {},
   "outputs": [],
   "source": [
    "def FuncDE(x):\n",
    "    return 1/np.sqrt(2) * psixt(0, x[0], x[1]) + 1/np.sqrt(2) * psixt(1, x[0], x[1])\n",
    "\n",
    "#Avaliação do gradiente\n",
    "def gradiente(x, funcDA):\n",
    "    h = 0.01\n",
    "    grad = []\n",
    "    \n",
    "    for i in range(len(x)):\n",
    "        xh = x.copy()\n",
    "        xh[i] = xh[i] + 0.0 + h\n",
    "        # Deve haver uma conversão de posição da matriz para ponto da curva\n",
    "        dx = (FuncDE(xh)-funcDA[int(np.round(((xh[0]+5)*100),0))][int(np.round((xh[1]*100),0))]) - (FuncDE(x)-funcDA[int(np.round(((xh[0]+5)*100),0))][int(np.round((x[1]*100),0))])/h\n",
    "        grad.append(dx.real)\n",
    "    return grad\n",
    "\n",
    "#Método gradiente\n",
    "def methodGrad(x):\n",
    "    k = 0\n",
    "    kmax = 5000\n",
    "    #x = np.array([-3/2., 5/2.])\n",
    "    \n",
    "    while(k < kmax):\n",
    "        d = -1*np.array(gradiente(x, psi))\n",
    "        alpha = 0.01\n",
    "        x = x + alpha*d\n",
    "        k += 1\n",
    "        \n",
    "    x_otimo = x\n",
    "    return x_otimo"
   ]
  },
  {
   "cell_type": "code",
   "execution_count": 11,
   "id": "d3246a43-a20a-4ff2-b425-e634d8a0235b",
   "metadata": {},
   "outputs": [
    {
     "name": "stdout",
     "output_type": "stream",
     "text": [
      "[-4.33346618 -0.32499705]\n"
     ]
    }
   ],
   "source": [
    "x = np.array([-4.0, 0.0])\n",
    "print(methodGrad(x))"
   ]
  },
  {
   "cell_type": "markdown",
   "id": "148932e4-2d00-4b04-8941-452d476c0edc",
   "metadata": {},
   "source": [
    "Considerando que a nossa função objetivo é a diferença entre a função exata e o psi estudado até o momento, utilizamos o método gradiente para estimar o valor de x e de t para que alcance o valor ideal. No primeiro teste considerou-se -5 e 0, onde -5 envolve o valor de x e de u, já que V, o potêncial harmônico depende destes. Então, para que se alcance o valor exato é preciso variar o x e o t em pequenos valores, em intervalos de $10^{-3}$."
   ]
  },
  {
   "cell_type": "markdown",
   "id": "1a09565c-e333-43fb-8c27-1229f9cd38a8",
   "metadata": {},
   "source": [
    "Para o algoritmo MPC é necessário realizar o método gradiente algumas vezes e utilizar sempre o primeiro termo e posteriormente fazê-lo para todo o tempo estudado. "
   ]
  },
  {
   "cell_type": "code",
   "execution_count": 12,
   "id": "232bd9c4-a310-4b2d-b186-7a9f04309bbc",
   "metadata": {},
   "outputs": [],
   "source": [
    "i = 0\n",
    "for i in range(i+3):\n",
    "    #Deve-se utilizar Crank-Nicolson antes de entrar no método gradiente\n",
    "    vetor.append(methodGrad(x))\n",
    "    x[0] = x[0] + 0.01\n",
    "A = vetor[0]"
   ]
  },
  {
   "cell_type": "code",
   "execution_count": 13,
   "id": "897188e4-f7ff-46c6-89d4-b2861db55e18",
   "metadata": {},
   "outputs": [
    {
     "name": "stdout",
     "output_type": "stream",
     "text": [
      "[array([-4.33346618, -0.32499705]), array([-4.32449696, -0.32499413]), array([-4.31509053, -0.32464942])]\n"
     ]
    }
   ],
   "source": [
    "print(vetor)"
   ]
  },
  {
   "cell_type": "markdown",
   "id": "7de8ebe6-285f-46b8-aa15-6eb3bfcd131c",
   "metadata": {},
   "source": [
    "Toda vez que obtemos um conjunto de valores do método gradiente, utilizamos o primeiro para realizar a operação $$\\psi_{i+1}=V[A] \\cdot \\psi_i$$ Esse próximo fator será utilizado no Crank-Nicolson e o método gradiente se tornará necessário."
   ]
  },
  {
   "cell_type": "code",
   "execution_count": 56,
   "id": "d8be7d9d-93c6-4f8a-97f1-840df67231fa",
   "metadata": {},
   "outputs": [],
   "source": [
    "def CrankNicolsonSimplificado(psi_c, M, O = 0, L = 1, T = 0.5):\n",
    "    N = 1000 #São os pontos no intervalo de tempo\n",
    "    \n",
    "    #Pensando no poço quadrado infinito, temos essas duas limitações, onde L varia\n",
    "    x0, xL = O, L\n",
    "\n",
    "    P = 3.141111111111111111111111111\n",
    "    #Discretização espacial\n",
    "    dx = (xL - x0)/(P*M-1) \n",
    "\n",
    "    #Discretização temporal\n",
    "    t0, tF = 0, T\n",
    "    dt = (tF - t0)/(P*N-1)\n",
    "\n",
    "    #Retorno dos números em um intervalo\n",
    "    xs = np.linspace(x0, xL, M)\n",
    "    ts = np.linspace(t0, tF, N)\n",
    "    us = np.linspace(-5, 5, 1000)\n",
    "\n",
    "    #Suponha um oscilador harmônico simples\n",
    "    hbar = 1\n",
    "    m = 1\n",
    "    w = np.pi\n",
    "    V = 1/2*m*w**2*xs**2+us #V(x,u(t))\n",
    "\n",
    "    #A partir da demonstração\n",
    "    a = hbar/(4*m*dx**2) \n",
    "    b = 1j*hbar/dt - 2*a - 1/2*V\n",
    "    c = 1j*hbar/dt + 2*a + 1/2*V\n",
    "\n",
    "    #Obtenção da matriz\n",
    "    ##Diagonais principais\n",
    "    diagPrincipalA = b*np.ones((1,M)) #Cria uma matriz de 1's\n",
    "    diagPrincipalB = c*np.ones((1,M))\n",
    "\n",
    "    ##Diagonais secundárias, tem um tamanho a menos\n",
    "    diagSecundariaA = a*np.ones((1,M-1))\n",
    "    diagSecundariaB = (-a)*np.ones((1,M-1))\n",
    "\n",
    "    diagonaisA = [diagPrincipalA, diagSecundariaA, diagSecundariaA]\n",
    "    matrizA = sparse.diags(diagonaisA, [0, -1, 1], shape=(M,M)).toarray()\n",
    "    \n",
    "    diagonaisB = [diagPrincipalB, diagSecundariaB, diagSecundariaB]         \n",
    "    matrizB = sparse.diags(diagonaisB, [0, -1, 1], shape=(M,M)).toarray()\n",
    "    \n",
    "    #Obtenção da matriz psi (Ela acumulará para o psi futuro)\n",
    "    ps = np.zeros((M, N))\n",
    "    \n",
    "    #For para o acúmulo de resultados\n",
    "    for k in range(1,N):\n",
    "        b = np.matmul(matrizB, np.array(psi_c[0:M, k-1])) #Multiplicação de arrays já que houve uma conversão anterior\n",
    "        psi_c[0:M, k] = np.linalg.solve(matrizA, b) #Matlab: x = A\\b\n",
    "        #plt.plot(xs, np.absolute(psi_c[0:M, k])**2)\n",
    "    #plt.plot(xs, np.absolute(psi_c[0:M, 0:1000])**2)\n",
    "    return (psi_c, ts, xs)"
   ]
  },
  {
   "cell_type": "code",
   "execution_count": 15,
   "id": "03307f7b-56f6-4bad-8d5f-0a173928a22f",
   "metadata": {},
   "outputs": [],
   "source": [
    "def FuncDE(x):\n",
    "    return 1/np.sqrt(2) * psixt(0, x[0], x[1]) + 1/np.sqrt(2) * psixt(1, x[0], x[1])\n",
    "\n",
    "#Avaliação do gradiente\n",
    "def gradiente(x, funcDA):\n",
    "    h = 0.01\n",
    "    grad = []\n",
    "    \n",
    "    for i in range(len(x)):\n",
    "        xh = x.copy()\n",
    "        xh[i] = xh[i] + 0.0 + h\n",
    "        # Deve haver uma conversão de posição da matriz para ponto da curva\n",
    "        dx = (FuncDE(xh)-funcDA[int(np.round(((xh[0]+5)*100),0))][int(np.round((xh[1]*100),0))]) - (FuncDE(x)-funcDA[int(np.round(((xh[0]+5)*100),0))][int(np.round((x[1]*100),0))])/h\n",
    "        grad.append(dx.real)\n",
    "    return grad\n",
    "\n",
    "#Método gradiente\n",
    "def methodGrad(x, psi):\n",
    "    k = 0\n",
    "    kmax = 5000\n",
    "    #x = np.array([-3/2., 5/2.])\n",
    "    \n",
    "    while(k < kmax):\n",
    "        d = -1*np.array(gradiente(x, psi))\n",
    "        alpha = 0.01\n",
    "        x = x + alpha*d\n",
    "        k += 1\n",
    "        \n",
    "    x_otimo = x\n",
    "    return x_otimo"
   ]
  },
  {
   "cell_type": "code",
   "execution_count": 59,
   "id": "fc5c7d6e-378d-4509-971f-e5de174069ae",
   "metadata": {},
   "outputs": [],
   "source": [
    "def N(n):\n",
    "    return 1*1./np.sqrt(np.sqrt(np.pi)*2**n*factorial(n))\n",
    "\n",
    "def psi(n, x):\n",
    "    Hn=hermite(n)\n",
    "    Px = N(n)*Hn(x)*np.exp(-0.5*x**2)\n",
    "    return Px\n",
    "\n",
    "def psixt(n, x, t):\n",
    "    Hn=hermite(n)\n",
    "    a = complex(0,1)\n",
    "    #print(type(n))\n",
    "    Pxt = N(n)*Hn(x.real)*np.exp(-0.5*x**2)*np.exp(-a*(n+1/2)*t*np.pi)\n",
    "    return Pxt"
   ]
  },
  {
   "cell_type": "code",
   "execution_count": 60,
   "id": "de103a0d-ee5d-4eaa-9e03-820fd982dc08",
   "metadata": {},
   "outputs": [
    {
     "name": "stdout",
     "output_type": "stream",
     "text": [
      "[-4.33346618 -0.32499705]\n",
      "[-4.32449696 -0.32499413]\n",
      "[-4.31509053 -0.32464942]\n",
      "[-4.30508924 -0.32445731]\n",
      "[-4.29407102 -0.3243524 ]\n",
      "[-4.28215949 -0.32382467]\n",
      "[-4.27049504 -0.32304777]\n",
      "[-4.25983141 -0.32219   ]\n",
      "[-4.25017627 -0.32143921]\n",
      "[-4.24087144 -0.32088715]\n",
      "[-4.23102312 -0.32048087]\n",
      "[-4.22018553 -0.32008239]\n",
      "[-4.20875844 -0.31958519]\n",
      "[-4.19759263 -0.31898115]\n",
      "[-4.18742295 -0.31835786]\n",
      "[-4.17815061 -0.31781418]\n",
      "[-4.16925976 -0.31742072]\n",
      "[-4.15992998 -0.3171597 ]\n",
      "[-4.14967199 -0.31694706]\n",
      "[-4.13848421 -0.31667969]\n"
     ]
    },
    {
     "ename": "KeyboardInterrupt",
     "evalue": "",
     "output_type": "error",
     "traceback": [
      "\u001b[0;31m---------------------------------------------------------------------------\u001b[0m",
      "\u001b[0;31mKeyboardInterrupt\u001b[0m                         Traceback (most recent call last)",
      "Input \u001b[0;32mIn [60]\u001b[0m, in \u001b[0;36m<cell line: 10>\u001b[0;34m()\u001b[0m\n\u001b[1;32m     61\u001b[0m \u001b[38;5;28;01mfor\u001b[39;00m k \u001b[38;5;129;01min\u001b[39;00m \u001b[38;5;28mrange\u001b[39m(\u001b[38;5;241m1\u001b[39m, \u001b[38;5;241m1000\u001b[39m):\n\u001b[1;32m     62\u001b[0m     b \u001b[38;5;241m=\u001b[39m np\u001b[38;5;241m.\u001b[39mmatmul(matrizB, np\u001b[38;5;241m.\u001b[39marray(psi_c[\u001b[38;5;241m0\u001b[39m:M, k\u001b[38;5;241m-\u001b[39m\u001b[38;5;241m1\u001b[39m])) \u001b[38;5;66;03m#Multiplicação de arrays já que houve uma conversão anterior\u001b[39;00m\n\u001b[0;32m---> 63\u001b[0m     psi_c[\u001b[38;5;241m0\u001b[39m:M, k] \u001b[38;5;241m=\u001b[39m \u001b[43mnp\u001b[49m\u001b[38;5;241;43m.\u001b[39;49m\u001b[43mlinalg\u001b[49m\u001b[38;5;241;43m.\u001b[39;49m\u001b[43msolve\u001b[49m\u001b[43m(\u001b[49m\u001b[43mmatrizA\u001b[49m\u001b[43m,\u001b[49m\u001b[43m \u001b[49m\u001b[43mb\u001b[49m\u001b[43m)\u001b[49m \u001b[38;5;66;03m#Matlab: x = A\\b\u001b[39;00m\n\u001b[1;32m     65\u001b[0m psi, ts, xs \u001b[38;5;241m=\u001b[39m CrankNicolsonSimplificado(psi_c, M \u001b[38;5;241m=\u001b[39m \u001b[38;5;241m1000\u001b[39m, O \u001b[38;5;241m=\u001b[39m \u001b[38;5;241m-\u001b[39m\u001b[38;5;241m5\u001b[39m, L \u001b[38;5;241m=\u001b[39m \u001b[38;5;241m5\u001b[39m, T \u001b[38;5;241m=\u001b[39m \u001b[38;5;241m10\u001b[39m)\n\u001b[1;32m     66\u001b[0m plt\u001b[38;5;241m.\u001b[39mplot(xs, np\u001b[38;5;241m.\u001b[39mabsolute(psi[\u001b[38;5;241m0\u001b[39m:M, i])\u001b[38;5;241m*\u001b[39m\u001b[38;5;241m*\u001b[39m\u001b[38;5;241m2\u001b[39m)\n",
      "File \u001b[0;32m<__array_function__ internals>:5\u001b[0m, in \u001b[0;36msolve\u001b[0;34m(*args, **kwargs)\u001b[0m\n",
      "File \u001b[0;32m~/anaconda3/lib/python3.9/site-packages/numpy/linalg/linalg.py:393\u001b[0m, in \u001b[0;36msolve\u001b[0;34m(a, b)\u001b[0m\n\u001b[1;32m    391\u001b[0m signature \u001b[38;5;241m=\u001b[39m \u001b[38;5;124m'\u001b[39m\u001b[38;5;124mDD->D\u001b[39m\u001b[38;5;124m'\u001b[39m \u001b[38;5;28;01mif\u001b[39;00m isComplexType(t) \u001b[38;5;28;01melse\u001b[39;00m \u001b[38;5;124m'\u001b[39m\u001b[38;5;124mdd->d\u001b[39m\u001b[38;5;124m'\u001b[39m\n\u001b[1;32m    392\u001b[0m extobj \u001b[38;5;241m=\u001b[39m get_linalg_error_extobj(_raise_linalgerror_singular)\n\u001b[0;32m--> 393\u001b[0m r \u001b[38;5;241m=\u001b[39m \u001b[43mgufunc\u001b[49m\u001b[43m(\u001b[49m\u001b[43ma\u001b[49m\u001b[43m,\u001b[49m\u001b[43m \u001b[49m\u001b[43mb\u001b[49m\u001b[43m,\u001b[49m\u001b[43m \u001b[49m\u001b[43msignature\u001b[49m\u001b[38;5;241;43m=\u001b[39;49m\u001b[43msignature\u001b[49m\u001b[43m,\u001b[49m\u001b[43m \u001b[49m\u001b[43mextobj\u001b[49m\u001b[38;5;241;43m=\u001b[39;49m\u001b[43mextobj\u001b[49m\u001b[43m)\u001b[49m\n\u001b[1;32m    395\u001b[0m \u001b[38;5;28;01mreturn\u001b[39;00m wrap(r\u001b[38;5;241m.\u001b[39mastype(result_t, copy\u001b[38;5;241m=\u001b[39m\u001b[38;5;28;01mFalse\u001b[39;00m))\n",
      "\u001b[0;31mKeyboardInterrupt\u001b[0m: "
     ]
    },
    {
     "data": {
      "image/png": "[encoded data removed]",
      "text/plain": [
       "<Figure size 432x288 with 1 Axes>"
      ]
     },
     "metadata": {
      "needs_background": "light"
     },
     "output_type": "display_data"
    }
   ],
   "source": [
    "ps = np.zeros((1000, 1000))\n",
    "psi_c = np.zeros((1000, 1000))\n",
    "ps[:,0] = 0.80 * psi(0, xs) + 0.60 * psi(1,xs) #A primeira coluna da matriz terá a equação inicial, em todas as posições\n",
    "psi_c = ps.astype(complex)\n",
    "psi, ts, xs = CrankNicolsonSimplificado(psi_c, M = 1000, O = -5, L = 5, T = 10)\n",
    "\n",
    "i = 0\n",
    "y = np.array([-4.0,0.0])\n",
    "t = y.copy()\n",
    "for u in range(999):\n",
    "    for i in range(i, i+3):\n",
    "        vetor.append(methodGrad(y, psi))\n",
    "        y[0] = y[0] + 0.01\n",
    "    A = vetor[0]\n",
    "    print(A)\n",
    "    i+=1\n",
    "    vetor = []\n",
    "    t[0] = t[0] + 0.01\n",
    "    y = t.copy()\n",
    "    \n",
    "    \n",
    "    #Retorno dos números em um intervalo\n",
    "    xs = np.linspace(-5, 5, 1000)\n",
    "    ts = np.linspace(0, 10, 1000)\n",
    "    us = np.linspace(-5, 5, 1000)\n",
    "\n",
    "    P = 3.141111111111111111111111111\n",
    "    #Discretização espacial\n",
    "    dx = 10/(P*1000-1) \n",
    "\n",
    "    #Discretização temporal\n",
    "    t0, tF = 0, 10\n",
    "    dt = (tF - t0)/(P*1000-1)\n",
    "    #Suponha um oscilador harmônico simples\n",
    "    hbar = 1\n",
    "    m = 1\n",
    "    w = np.pi\n",
    "    V = 1/2*m*w**2*A[0]**2\n",
    "\n",
    "    #A partir da demonstração\n",
    "    a = hbar/(4*m*dx**2) \n",
    "    b = 1j*hbar/dt - 2*a - 1/2*V\n",
    "    c = 1j*hbar/dt + 2*a + 1/2*V\n",
    "\n",
    "    #Obtenção da matriz\n",
    "    M = 1000\n",
    "    ##Diagonais principais\n",
    "    diagPrincipalA = b*np.ones((1,M)) #Cria uma matriz de 1's\n",
    "    diagPrincipalB = c*np.ones((1,M))\n",
    "\n",
    "    ##Diagonais secundárias, tem um tamanho a menos\n",
    "    diagSecundariaA = a*np.ones((1,M-1))\n",
    "    diagSecundariaB = (-a)*np.ones((1,M-1))\n",
    "\n",
    "    diagonaisA = [diagPrincipalA, diagSecundariaA, diagSecundariaA]\n",
    "    matrizA = sparse.diags(diagonaisA, [0, -1, 1], shape=(M,M)).toarray()\n",
    "    \n",
    "    diagonaisB = [diagPrincipalB, diagSecundariaB, diagSecundariaB]         \n",
    "    matrizB = sparse.diags(diagonaisB, [0, -1, 1], shape=(M,M)).toarray()\n",
    "    \n",
    "    for k in range(1, 1000):\n",
    "        b = np.matmul(matrizB, np.array(psi_c[0:M, k-1])) #Multiplicação de arrays já que houve uma conversão anterior\n",
    "        psi_c[0:M, k] = np.linalg.solve(matrizA, b) #Matlab: x = A\\b\n",
    "        \n",
    "    psi, ts, xs = CrankNicolsonSimplificado(psi_c, M = 1000, O = -5, L = 5, T = 10)\n",
    "    plt.plot(xs, np.absolute(psi[0:M, i])**2)\n"
   ]
  },
  {
   "cell_type": "code",
   "execution_count": null,
   "id": "5c3856a0-72ba-4c10-945e-f8721e24c255",
   "metadata": {},
   "outputs": [],
   "source": []
  }
 ],
 "metadata": {
  "kernelspec": {
   "display_name": "Python 3 (ipykernel)",
   "language": "python",
   "name": "python3"
  },
  "language_info": {
   "codemirror_mode": {
    "name": "ipython",
    "version": 3
   },
   "file_extension": ".py",
   "mimetype": "text/x-python",
   "name": "python",
   "nbconvert_exporter": "python",
   "pygments_lexer": "ipython3",
   "version": "3.9.12"
  }
 },
 "nbformat": 4,
 "nbformat_minor": 5
}
