{
 "cells": [
  {
   "cell_type": "markdown",
   "id": "eab1056f",
   "metadata": {},
   "source": [
    "## Algoritmo Genético\n",
    "\n",
    "No jupyter anterior utilizamos o algoritmo Gradiente Decrescente para otimizar a função objetivo, afim de comparações, dessa vez utilizaremos um algoritmo genético."
   ]
  },
  {
   "cell_type": "code",
   "execution_count": 1,
   "id": "5f4c00e8",
   "metadata": {},
   "outputs": [],
   "source": [
    "from random import randint, uniform, random\n",
    "from tqdm import tqdm\n",
    "import numpy as np"
   ]
  },
  {
   "cell_type": "code",
   "execution_count": 2,
   "id": "5070caac",
   "metadata": {},
   "outputs": [],
   "source": [
    "# Especificação das amostras\n",
    "\n",
    "LIMITE_INFERIOR = 0\n",
    "LIMITE_SUPERIOR = 300\n",
    "SIZE_POP = 100\n",
    "QTD_VAR = 6\n",
    "QTD_GERACOES = 100\n",
    "TAXA_CRUZAMENTO = 0.85\n",
    "TAXA_MUTACAO = 0.01\n",
    "QTD_TROCA = 2 #qtd de posicoes a serem trocadas na mutação"
   ]
  },
  {
   "cell_type": "code",
   "execution_count": 3,
   "id": "425eb686",
   "metadata": {},
   "outputs": [],
   "source": [
    "def somar(A, B):\n",
    "    C = []\n",
    "    nLinhasA, nLinhasB = len(A), len(B)\n",
    "    nColA, nColB = len(A[0]), len(B[0])\n",
    "    \n",
    "    for i in range (nLinhasA):\n",
    "        linha = [0]*nColA\n",
    "        C.append(linha)\n",
    "        for j in range(nColA):\n",
    "            C[i][j] = A[i][j] + B[i][j]\n",
    "\n",
    "    return C\n",
    "\n",
    "def sub(A, B):\n",
    "    C = []\n",
    "    nLinhasA, nLinhasB = len(A), len(B)\n",
    "    nColA, nColB = len(A[0]), len(B[0])\n",
    "    \n",
    "    for i in range (nLinhasA):\n",
    "        linha = [0]*nColA\n",
    "        C.append(linha)\n",
    "        for j in range(nColA):\n",
    "            C[i][j] = A[i][j] - B[i][j]\n",
    "\n",
    "    return C\n",
    "\n",
    "\n",
    "#################################################################\n",
    "\n",
    "## d (psi) / dt = -i * H * |psi>\n",
    "def dpsidt(t,psi, H):\n",
    "    A = np.zeros((2,2), dtype=np.complex_)\n",
    "    A = np.dot(complex(0,1),H) # i * H\n",
    "    return -1*np.matmul(A,psi)\n",
    "\n",
    "def rungeKutta(psi0, h, H, t = 2, t0 = 0):\n",
    "    \n",
    "    n = (int)((t-t0))\n",
    "    S = np.zeros((2,int(t)), dtype=np.complex_)\n",
    "    r = 0\n",
    "    \n",
    "    for i in range(0, n):\n",
    "        \n",
    "        S[0][r] = psi0[0][0]\n",
    "        S[1][r] = psi0[1][0]\n",
    "        \n",
    "        k1 = dpsidt(t0, psi0, H)\n",
    "        k2 = dpsidt(t0 + 0.5 * h, somar(psi0, np.dot((0.5*h), k1)), H)\n",
    "        k3 = dpsidt(t0 + 0.5 * h, somar(psi0, np.dot((0.5*h), k2)), H)\n",
    "        k4 = dpsidt(t0 + h, somar(psi0, np.dot(h, k3)), H)\n",
    "        \n",
    "        ## y(i+1) = y(i) + h/6*(k1+2*k2+2*k3+k4)\n",
    "        \n",
    "        A = somar(np.dot(2,k3), k4)\n",
    "        B = somar(np.dot(2,k2), k1)\n",
    "        C = somar(A, B)\n",
    " \n",
    "        psi0 = somar(psi0,np.dot((h / 6.0),(C)))\n",
    "    \n",
    "        t0 = t0 + h\n",
    "        \n",
    "        r = r + 1\n",
    "        \n",
    "    return S\n",
    "\n",
    "def funcao_objetivo(ind, x, D, H, i, psi0, h):\n",
    "    \n",
    "    H1 = np.zeros((2,2), dtype=np.complex_)\n",
    "    \n",
    "    ## Tamanho do horizonte\n",
    "    tam = 6\n",
    "    \n",
    "    M = np.zeros((2,1),dtype=np.complex_)\n",
    "    M = [[psi0[0][0]], [psi0[1][0]]] \n",
    "    \n",
    "    Result = np.zeros((2,1),dtype=np.complex_)\n",
    "    \n",
    "    Return = 0\n",
    "\n",
    "    Z = np.zeros((2,1),dtype=np.complex_)\n",
    "    Z[0][0] = D[0][0]*np.exp(-1*complex(0,1)*(1/2*np.pi)*i/100)\n",
    "    Z[1][0] = D[1][0]*np.exp(-1*complex(0,1)*(3/2*np.pi)*i/100)\n",
    "    Return += np.linalg.norm(M-Z)**2\n",
    "    Result = rungeKutta(M, h, somar(H,H1), t = 2, t0 = 0)\n",
    "    M = Result\n",
    "    \n",
    "    teste = tam + i\n",
    "    \n",
    "    ## Função-Objetivo (Return) = somatorio ||(Matriz_Origem - Matriz_Destino)||^2\n",
    "    for p in range(i, teste):\n",
    "        H1 = [[0, x[p-i]], [x[p-i], 0]] # Controle\n",
    "        Z = np.zeros((2,1),dtype=np.complex_)\n",
    "        Z[0][0] = D[0][0]*np.exp(-1*complex(0,1)*(1/2*np.pi)*(p+1)/100)\n",
    "        Z[1][0] = D[1][0]*np.exp(-1*complex(0,1)*(3/2*np.pi)*(p+1)/100)\n",
    "        Return += np.linalg.norm(M-Z)**2\n",
    "        Result = rungeKutta(M, h, somar(H,H1), t = (p-i)+3, t0 = 0)\n",
    "        M = Result\n",
    "    \n",
    "    return Return"
   ]
  },
  {
   "cell_type": "code",
   "execution_count": 4,
   "id": "e4651a3c",
   "metadata": {},
   "outputs": [],
   "source": [
    "def geraca_populacao():\n",
    "    populacao = np.zeros((SIZE_POP,QTD_VAR))\n",
    "    for individuo in range(SIZE_POP):\n",
    "        for pos in range(QTD_VAR):\n",
    "            populacao[individuo,pos] = uniform(LIMITE_INFERIOR, LIMITE_SUPERIOR)\n",
    "    return populacao"
   ]
  },
  {
   "cell_type": "code",
   "execution_count": 5,
   "id": "5184c937",
   "metadata": {},
   "outputs": [],
   "source": [
    "def calcula_fo(pop, D, H, i, psi0, h):\n",
    "    valor_fo = np.zeros(SIZE_POP)\n",
    "    for individuo in range(SIZE_POP):\n",
    "        valor_fo[individuo] = funcao_objetivo(individuo, pop[individuo,:], D, H, i, psi0, h)\n",
    "    return valor_fo"
   ]
  },
  {
   "cell_type": "code",
   "execution_count": 6,
   "id": "776bf668",
   "metadata": {},
   "outputs": [],
   "source": [
    "def fitness(valor_fo):\n",
    "    return valor_fo"
   ]
  },
  {
   "cell_type": "code",
   "execution_count": 7,
   "id": "80cbadf1",
   "metadata": {},
   "outputs": [],
   "source": [
    "def selecao(valor_fitness):\n",
    "    pos = np.random.choice(range(SIZE_POP),  2 ,replace=False)\n",
    "    valor = valor_fitness[pos[0]]<valor_fitness[pos[1]]\n",
    "    if valor == True:\n",
    "        return  pos[0]\n",
    "    else: \n",
    "        return pos[1]"
   ]
  },
  {
   "cell_type": "code",
   "execution_count": 8,
   "id": "c22e8738",
   "metadata": {},
   "outputs": [],
   "source": [
    "def cruzamento(pai1,pai2):\n",
    "    x = random()\n",
    "    filho1 = x*pai1+(1-x)*pai2\n",
    "    filho2 = (1-x)*pai1+x*pai2\n",
    "    return filho1,filho2"
   ]
  },
  {
   "cell_type": "code",
   "execution_count": 9,
   "id": "60493581",
   "metadata": {},
   "outputs": [],
   "source": [
    "def mutacao(individuo):\n",
    "    pos = np.random.choice(range(QTD_VAR),  QTD_TROCA ,replace=False)\n",
    "    individuo[pos[0]] = individuo[pos[1]]\n",
    "    individuo[pos[1]] = individuo[pos[0]]\n",
    "    return individuo"
   ]
  },
  {
   "cell_type": "code",
   "execution_count": 10,
   "id": "58d17e6e",
   "metadata": {},
   "outputs": [],
   "source": [
    "import matplotlib.pyplot as plt"
   ]
  },
  {
   "cell_type": "code",
   "execution_count": 11,
   "id": "93999574",
   "metadata": {},
   "outputs": [],
   "source": [
    "def main_ga(D, H, i, psi0, h):\n",
    "    pop = geraca_populacao()\n",
    "    fo = calcula_fo(pop, D, H, i, psi0, h)\n",
    "    fit = fitness(fo)\n",
    "    melhor_fo = np.zeros(QTD_GERACOES)\n",
    "    melhor_ind_geracao = np.zeros((QTD_GERACOES, QTD_VAR))\n",
    "    for geracao in range(QTD_GERACOES):\n",
    "        new_pop = np.empty((0, QTD_VAR))\n",
    "        for i in range(round((SIZE_POP) / 2)):\n",
    "            pai1 = 0\n",
    "            pai2 = 0\n",
    "            while pai1 == pai2:\n",
    "                pai1 = selecao(fit)\n",
    "                pai2 = selecao(fit)\n",
    "            if random() < TAXA_CRUZAMENTO:\n",
    "                filho1, filho2 = cruzamento(pop[pai1, :], pop[pai2, :]) \n",
    "                if random() < TAXA_MUTACAO:    \n",
    "                    filho1 = mutacao(filho1)\n",
    "                    filho2 = mutacao(filho2)  \n",
    "                new_pop = np.vstack([new_pop, filho1, filho2])     \n",
    "            else:\n",
    "                pais = np.vstack([pop[pai1, :], pop[pai2, :]])\n",
    "                new_pop = np.vstack([new_pop, pais])\n",
    "        pop = new_pop    \n",
    "        fo = calcula_fo(pop, D, H, i, psi0, h)\n",
    "        fit = fitness(fo)\n",
    "        min_fo = min(fo)\n",
    "        melhor_fo[geracao] = min_fo\n",
    "        pos_min_fo = np.where(fo == min_fo)\n",
    "\n",
    "    \n",
    "    plt.plot(melhor_fo)\n",
    "    plt.xlim(0, QTD_GERACOES)\n",
    "    plt.ylabel('Gerações')\n",
    "    plt.ylabel('Melhor Custo')\n",
    "    plt.title('Evolução da função objetivo - GA')\n",
    "    plt.grid(True)\n",
    "    plt.show()\n",
    "    \n",
    "\n",
    "    return pop[pos_min_fo,:][0,0]"
   ]
  },
  {
   "cell_type": "code",
   "execution_count": 12,
   "id": "b194fcad",
   "metadata": {},
   "outputs": [
    {
     "data": {
      "image/png": "[encoded data removed]",
      "text/plain": [
       "<Figure size 640x480 with 1 Axes>"
      ]
     },
     "metadata": {},
     "output_type": "display_data"
    }
   ],
   "source": [
    "# Função de origem e destino\n",
    "psi0 = [[complex(0.80,0.0)],[complex(0.60,0.0)]]\n",
    "psid = [[complex(1/np.sqrt(2),0)],[complex(1/np.sqrt(2),0)]]\n",
    "\n",
    "\n",
    "H = np.zeros((2,2), dtype=np.complex_) # Hamiltoniano\n",
    "A = (1/2*np.pi)\n",
    "B = (3/2*np.pi)\n",
    "H = [[A, 0], [0, B]]\n",
    "\n",
    "D = np.zeros((2,1), dtype=np.complex_) # Matriz destino\n",
    "D[0][0] = psid[0][0]\n",
    "D[1][0] = psid[1][0]\n",
    "\n",
    "i = 0\n",
    "\n",
    "h = 0.01\n",
    "\n",
    "minimo = main_ga(D, H, i, psi0, h)"
   ]
  },
  {
   "cell_type": "code",
   "execution_count": 13,
   "id": "090e40be",
   "metadata": {},
   "outputs": [
    {
     "data": {
      "text/plain": [
       "array([105.18408456, 226.40989231, 226.06996331, 235.24033835,\n",
       "       217.37254939, 151.25416076])"
      ]
     },
     "execution_count": 13,
     "metadata": {},
     "output_type": "execute_result"
    }
   ],
   "source": [
    "minimo"
   ]
  },
  {
   "cell_type": "code",
   "execution_count": 14,
   "id": "6bd6ca64",
   "metadata": {},
   "outputs": [
    {
     "data": {
      "text/plain": [
       "1161"
      ]
     },
     "execution_count": 14,
     "metadata": {},
     "output_type": "execute_result"
    }
   ],
   "source": [
    "int(minimo.sum())"
   ]
  }
 ],
 "metadata": {
  "kernelspec": {
   "display_name": "Python 3 (ipykernel)",
   "language": "python",
   "name": "python3"
  },
  "language_info": {
   "codemirror_mode": {
    "name": "ipython",
    "version": 3
   },
   "file_extension": ".py",
   "mimetype": "text/x-python",
   "name": "python",
   "nbconvert_exporter": "python",
   "pygments_lexer": "ipython3",
   "version": "3.10.9"
  }
 },
 "nbformat": 4,
 "nbformat_minor": 5
}
