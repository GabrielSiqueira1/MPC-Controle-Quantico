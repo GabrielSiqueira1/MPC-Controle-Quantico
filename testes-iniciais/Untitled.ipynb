{
 "cells": [
  {
   "cell_type": "code",
   "execution_count": 26,
   "id": "3645424e",
   "metadata": {},
   "outputs": [
    {
     "ename": "SyntaxError",
     "evalue": "invalid syntax (1724085056.py, line 1)",
     "output_type": "error",
     "traceback": [
      "\u001b[1;36m  Cell \u001b[1;32mIn[26], line 1\u001b[1;36m\u001b[0m\n\u001b[1;33m    pip install slycot   # optional\u001b[0m\n\u001b[1;37m        ^\u001b[0m\n\u001b[1;31mSyntaxError\u001b[0m\u001b[1;31m:\u001b[0m invalid syntax\n"
     ]
    }
   ],
   "source": [
    "pip install slycot   # optional\n",
    "pip install control"
   ]
  },
  {
   "cell_type": "code",
   "execution_count": 25,
   "id": "ab0cd6c9",
   "metadata": {},
   "outputs": [
    {
     "ename": "NameError",
     "evalue": "name 'TransferFunction' is not defined",
     "output_type": "error",
     "traceback": [
      "\u001b[1;31m---------------------------------------------------------------------------\u001b[0m",
      "\u001b[1;31mNameError\u001b[0m                                 Traceback (most recent call last)",
      "Cell \u001b[1;32mIn[25], line 12\u001b[0m\n\u001b[0;32m      9\u001b[0m b \u001b[38;5;241m=\u001b[39m (\u001b[38;5;241m2\u001b[39m\u001b[38;5;241m*\u001b[39mM\u001b[38;5;241m/\u001b[39m(T\u001b[38;5;241m*\u001b[39mT) \u001b[38;5;241m-\u001b[39m d\u001b[38;5;241m/\u001b[39mT);\n\u001b[0;32m     10\u001b[0m c \u001b[38;5;241m=\u001b[39m (M\u001b[38;5;241m/\u001b[39m(T\u001b[38;5;241m*\u001b[39mT) \u001b[38;5;241m-\u001b[39md\u001b[38;5;241m/\u001b[39mT \u001b[38;5;241m+\u001b[39m k);\n\u001b[1;32m---> 12\u001b[0m z \u001b[38;5;241m=\u001b[39m \u001b[43mTransferFunction\u001b[49m\u001b[38;5;241m.\u001b[39mz\n\u001b[0;32m     14\u001b[0m name \u001b[38;5;241m=\u001b[39m \u001b[38;5;124m'\u001b[39m\u001b[38;5;124mDiscrete Transfer Function\u001b[39m\u001b[38;5;124m'\u001b[39m\n\u001b[0;32m     15\u001b[0m num \u001b[38;5;241m=\u001b[39m [k]\n",
      "\u001b[1;31mNameError\u001b[0m: name 'TransferFunction' is not defined"
     ]
    }
   ],
   "source": [
    "from scipy import signal\n",
    "\n",
    "import matplotlib.pyplot as plt\n",
    "\n",
    "M = 2;\n",
    "d = 1;\n",
    "k = 5;\n",
    "T = 0.1;\n",
    "a = M/(T*T);\n",
    "b = (2*M/(T*T) - d/T);\n",
    "c = (M/(T*T) -d/T + k);\n",
    "\n",
    "z = TransferFunction.z\n",
    "\n",
    "name = 'Discrete Transfer Function'\n",
    "num = [k]\n",
    "den = [a, -b, c]\n",
    "sys3 = signal.TransferFunction(num, den, dt = 0.3)\n",
    "t,y = signal.dstep(sys3)\n",
    "plt.figure(3)\n",
    "plt.plot(t,y[0],'k-',label=name)\n",
    "plt.legend(loc='best')\n",
    "plt.show()\n"
   ]
  }
 ],
 "metadata": {
  "kernelspec": {
   "display_name": "Python 3 (ipykernel)",
   "language": "python",
   "name": "python3"
  },
  "language_info": {
   "codemirror_mode": {
    "name": "ipython",
    "version": 3
   },
   "file_extension": ".py",
   "mimetype": "text/x-python",
   "name": "python",
   "nbconvert_exporter": "python",
   "pygments_lexer": "ipython3",
   "version": "3.10.9"
  }
 },
 "nbformat": 4,
 "nbformat_minor": 5
}
