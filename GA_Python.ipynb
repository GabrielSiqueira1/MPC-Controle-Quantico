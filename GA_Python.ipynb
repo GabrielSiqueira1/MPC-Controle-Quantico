{
 "cells": [
  {
   "cell_type": "markdown",
   "metadata": {},
   "source": [
    "# <center>Algoritmo Genético<center>"
   ]
  },
  {
   "cell_type": "code",
   "execution_count": 1,
   "metadata": {},
   "outputs": [],
   "source": [
    "from random import randint,uniform,random\n",
    "from tqdm import tqdm\n",
    "import numpy as np"
   ]
  },
  {
   "cell_type": "code",
   "execution_count": 2,
   "metadata": {},
   "outputs": [],
   "source": [
    "LIMITE_INFERIOR = 0\n",
    "LIMITE_SUPERIOR = 300\n",
    "SIZE_POP = 300\n",
    "QTD_VAR = 2\n",
    "QTD_GERACOES = 100\n",
    "TAXA_CRUZAMENTO = 0.85\n",
    "TAXA_MUTACAO = 0.01\n",
    "QTD_TROCA = 2 #qtd de posicoes a serem trocadas na mutação"
   ]
  },
  {
   "cell_type": "markdown",
   "metadata": {},
   "source": [
    "def funcao_objetivo(x):\n",
    "    return x[0]**2+x[1]**2"
   ]
  },
  {
   "cell_type": "code",
   "execution_count": 3,
   "metadata": {},
   "outputs": [],
   "source": [
    "def funcao_objetivo(x):\n",
    "    return -1*(-1/4*x[0]**2-3/8*x[1]**2-1/4*x[0]*x[1]+120*x[0]+100*x[1]-5000)+1000*(x[0]+x[1]-230)**2"
   ]
  },
  {
   "cell_type": "code",
   "execution_count": 4,
   "metadata": {},
   "outputs": [],
   "source": [
    "def geraca_populacao():\n",
    "    populacao = np.zeros((SIZE_POP,QTD_VAR))\n",
    "    for individuo in range(SIZE_POP):\n",
    "        for pos in range(QTD_VAR):\n",
    "            populacao[individuo,pos] = uniform(LIMITE_INFERIOR, LIMITE_SUPERIOR)\n",
    "    return populacao"
   ]
  },
  {
   "cell_type": "code",
   "execution_count": 5,
   "metadata": {},
   "outputs": [],
   "source": [
    "def calcula_fo(pop):\n",
    "    valor_fo = np.zeros(SIZE_POP)\n",
    "    for individuo in range(SIZE_POP):\n",
    "        valor_fo[individuo] = funcao_objetivo(pop[individuo,:])\n",
    "    return valor_fo"
   ]
  },
  {
   "cell_type": "code",
   "execution_count": 6,
   "metadata": {},
   "outputs": [],
   "source": [
    "def fitness(valor_fo):\n",
    "    return valor_fo"
   ]
  },
  {
   "cell_type": "code",
   "execution_count": 7,
   "metadata": {},
   "outputs": [],
   "source": [
    "def selecao(valor_fitness):\n",
    "    pos = np.random.choice(range(SIZE_POP),  2 ,replace=False)\n",
    "    valor = valor_fitness[pos[0]]<valor_fitness[pos[1]]\n",
    "    if valor == True:\n",
    "        return  pos[0]\n",
    "    else: \n",
    "        return pos[1]"
   ]
  },
  {
   "cell_type": "code",
   "execution_count": 8,
   "metadata": {},
   "outputs": [],
   "source": [
    "def cruzamento(pai1,pai2):\n",
    "    x = random()\n",
    "    filho1 = x*pai1+(1-x)*pai2\n",
    "    filho2 = (1-x)*pai1+x*pai2\n",
    "    return filho1,filho2"
   ]
  },
  {
   "cell_type": "code",
   "execution_count": 9,
   "metadata": {},
   "outputs": [],
   "source": [
    "def mutacao(individuo):\n",
    "    pos = np.random.choice(range(QTD_VAR),  QTD_TROCA ,replace=False)\n",
    "    individuo[pos[0]] = individuo[pos[1]]\n",
    "    individuo[pos[1]] = individuo[pos[0]]\n",
    "    return individuo"
   ]
  },
  {
   "cell_type": "code",
   "execution_count": 10,
   "metadata": {},
   "outputs": [],
   "source": [
    "import matplotlib.pyplot as plt"
   ]
  },
  {
   "cell_type": "code",
   "execution_count": 11,
   "metadata": {},
   "outputs": [],
   "source": [
    "def main_ga():\n",
    "    pop = geraca_populacao()\n",
    "    fo = calcula_fo(pop)\n",
    "    fit = fitness(fo)\n",
    "    melhor_fo = np.zeros(QTD_GERACOES)\n",
    "    melhor_ind_geracao = np.zeros((QTD_GERACOES, QTD_VAR))\n",
    "    for geracao in range(QTD_GERACOES):\n",
    "        new_pop = np.empty((0, QTD_VAR))\n",
    "        for i in range(round((SIZE_POP) / 2)):\n",
    "            pai1 = 0\n",
    "            pai2 = 0\n",
    "            while pai1 == pai2:\n",
    "                pai1 = selecao(fit)\n",
    "                pai2 = selecao(fit)\n",
    "            if random() < TAXA_CRUZAMENTO:\n",
    "                filho1, filho2 = cruzamento(pop[pai1, :], pop[pai2, :]) \n",
    "                if random() < TAXA_MUTACAO:    \n",
    "                    filho1 = mutacao(filho1)\n",
    "                    filho2 = mutacao(filho2)  \n",
    "                new_pop = np.vstack([new_pop, filho1, filho2])     \n",
    "            else:\n",
    "                pais = np.vstack([pop[pai1, :], pop[pai2, :]])\n",
    "                new_pop = np.vstack([new_pop, pais])\n",
    "        pop = new_pop    \n",
    "        fo = calcula_fo(pop)\n",
    "        fit = fitness(fo)\n",
    "        min_fo = min(fo)\n",
    "        melhor_fo[geracao] = min_fo\n",
    "        pos_min_fo = np.where(fo == min_fo)\n",
    "\n",
    "    \n",
    "    plt.plot(melhor_fo)\n",
    "    plt.xlim(0, QTD_GERACOES)\n",
    "    plt.ylabel('Gerações')\n",
    "    plt.ylabel('Melhor Custo')\n",
    "    plt.title('Evolução da função objetivo - GA')\n",
    "    plt.grid(True)\n",
    "    plt.show()\n",
    "    \n",
    "\n",
    "    return pop[pos_min_fo,:][0,0]"
   ]
  },
  {
   "cell_type": "code",
   "execution_count": null,
   "metadata": {},
   "outputs": [],
   "source": [
    "minimo = main_ga()"
   ]
  },
  {
   "cell_type": "code",
   "execution_count": 18,
   "metadata": {},
   "outputs": [
    {
     "data": {
      "text/plain": [
       "array([207.99989246,  63.99992823])"
      ]
     },
     "execution_count": 18,
     "metadata": {},
     "output_type": "execute_result"
    }
   ],
   "source": [
    "minimo"
   ]
  },
  {
   "cell_type": "code",
   "execution_count": 14,
   "metadata": {},
   "outputs": [
    {
     "data": {
      "text/plain": [
       "230"
      ]
     },
     "execution_count": 14,
     "metadata": {},
     "output_type": "execute_result"
    }
   ],
   "source": [
    "int(minimo.sum())"
   ]
  },
  {
   "cell_type": "markdown",
   "metadata": {},
   "source": [
    "# <center>Maximizando Lucros<center>\n",
    "    \n",
    "$$L(x,y)=-\\frac{1}{4}x^2-\\frac{3}{8}y^2-\\frac{1}{4}xy+120x+100y-5000$$\n",
    "    \n",
    "sujeito a: \n",
    "\t\n",
    "$$x+y=230$$\n",
    "    \n",
    "$$h(x,y)=x+y-230$$    "
   ]
  },
  {
   "cell_type": "code",
   "execution_count": 15,
   "metadata": {},
   "outputs": [],
   "source": [
    "from scipy.optimize import Bounds\n",
    "from scipy.optimize import minimize\n",
    "\n",
    "bnds = Bounds(LIMITE_INFERIOR*np.ones(QTD_VAR), LIMITE_SUPERIOR*np.ones(QTD_VAR))\n",
    "\n",
    "def h(x):\n",
    "    return x[0]+x[1]-230\n",
    "\n",
    "def funcao_objetivo(x):\n",
    "    return -1*(-1/4*x[0]**2-3/8*x[1]**2-1/4*x[0]*x[1]+120*x[0]+100*x[1]-5000)\n",
    "\n",
    "X0 = [100,130]\n",
    "\n",
    "solucao = minimize(funcao_objetivo,X0,method='SLSQP', bounds=bnds,constraints={'type': 'eq', 'fun': h})"
   ]
  },
  {
   "cell_type": "code",
   "execution_count": 16,
   "metadata": {},
   "outputs": [
    {
     "data": {
      "text/plain": [
       "array([180.,  50.])"
      ]
     },
     "execution_count": 16,
     "metadata": {},
     "output_type": "execute_result"
    }
   ],
   "source": [
    "solucao.x"
   ]
  },
  {
   "cell_type": "markdown",
   "metadata": {},
   "source": [
    "def fitness(valor_fo): #quanto maior o fitness (com escala em [0,1]), melhor é o indivíduo\n",
    "    a = np.max(valor_fo)\n",
    "    b = np.min(valor_fo)\n",
    "    if a == b:\n",
    "        return 1 ##ou muda todo mundo ou mostra\n",
    "    else:\n",
    "        c = a - valor_fo\n",
    "        d = a - b\n",
    "        return c/d\n",
    "        \n",
    "def fitness(fo): #ranking linear\n",
    "    min_fo = min(fo)\n",
    "    max_fo = max(fo)\n",
    "    posicao_ordenada = np.argsort(fo)\n",
    "    return min_fo+(max_fo-min_fo)*(SIZE_POP-posicao_ordenada)/(SIZE_POP-1)   \n",
    "    \n",
    "def selecao(valor_fitness): #roleta russa\n",
    "    y = valor_fitness.cumsum()/np.sum(valor_fitness)\n",
    "    u = random()\n",
    "    j = 0\n",
    "    while u>y[j]:\n",
    "        j += 1\n",
    "    return j    "
   ]
  }
 ],
 "metadata": {
  "kernelspec": {
   "display_name": "Python 3 (ipykernel)",
   "language": "python",
   "name": "python3"
  },
  "language_info": {
   "codemirror_mode": {
    "name": "ipython",
    "version": 3
   },
   "file_extension": ".py",
   "mimetype": "text/x-python",
   "name": "python",
   "nbconvert_exporter": "python",
   "pygments_lexer": "ipython3",
   "version": "3.10.9"
  }
 },
 "nbformat": 4,
 "nbformat_minor": 2
}
