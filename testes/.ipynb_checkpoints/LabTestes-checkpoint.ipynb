{
 "cells": [
  {
   "cell_type": "markdown",
   "id": "8ff3e3ed",
   "metadata": {},
   "source": [
    "## Comparação de métodos através de uma entrada complexa\n",
    "\n",
    "\n",
    "Para realizar os testes a seguir, pensou-se na função |x-(1+1j)| de forma que o mínimo dessa função seja (1+1j). Para tal, a biblioteca de otimização do python será munida do método gradiente crescente (CG) enquanto, de forma manual, será utilizado o gradiente decrescente. Ambos para otimizações não lineares."
   ]
  },
  {
   "cell_type": "code",
   "execution_count": 1,
   "id": "1af80fc0",
   "metadata": {},
   "outputs": [],
   "source": [
    "# Bilbiotecas para auxílio na programação matemática\n",
    "import math, sys \n",
    "import numpy as np\n",
    "import sympy as sp\n",
    "\n",
    "from scipy import sparse # Produção das diagonais das matrizes\n",
    "from scipy.sparse import diags \n",
    "\n",
    "# Plotagem 2D e 3D\n",
    "from mpl_toolkits.mplot3d import Axes3D\n",
    "import matplotlib.pyplot as plt\n",
    "from matplotlib import cm\n",
    "\n",
    "\n",
    "from os import path # Suficiente para manipulação de arquivos\n",
    "    \n",
    "# Para solução exata\n",
    "from scipy.special import hermite\n",
    "from math import factorial\n",
    "\n",
    "%matplotlib inline\n",
    "count = 0\n",
    "\n",
    "# Para otimização dos sistemas\n",
    "from scipy import optimize\n",
    "\n",
    "import random"
   ]
  },
  {
   "cell_type": "code",
   "execution_count": 2,
   "id": "e67b5522",
   "metadata": {},
   "outputs": [],
   "source": [
    "## Proposta de função\n",
    "def fo(x):\n",
    "    aux = complex(1,1)\n",
    "    return abs(x[0] - aux)\n",
    "\n",
    "## Ajuste da função para a seção áurea\n",
    "def foS(x, alpha, d):\n",
    "    ajuste = x + alpha * d\n",
    "    aux = complex(1,1)\n",
    "    return abs(ajuste[0] - aux) \n",
    "\n",
    "## Estabelecimento do espaçamento entre as amostras\n",
    "def secaoAurea(d, x, l):\n",
    "    \n",
    "    ## Pontos de partida\n",
    "    a = 0\n",
    "    b = 1\n",
    "    \n",
    "    xA = b - 0.618*(b-a)\n",
    "    xB = a + 0.618*(b-a)\n",
    "    fxA = foS(x, xA, d)\n",
    "    fxB = foS(x, xB, d)\n",
    "    \n",
    "    while(b - a > l):\n",
    "        if(fxA < fxB):\n",
    "            b = xB\n",
    "            xB = xA\n",
    "            xA = b - 0.618 * (b-a)\n",
    "            fxB = fxA\n",
    "            fxA = foS(x, xA, d)\n",
    "        else:\n",
    "            a = xA\n",
    "            xA = xB\n",
    "            xB = a + 0.618 * (b-a)\n",
    "            fxA = fxB\n",
    "            fxB = foS(x, xB, d)\n",
    "            \n",
    "    xp = (a+b)/2\n",
    "    return xp\n",
    "    \n",
    "    \n",
    "## Estabelecimento do vetor gradiente\n",
    "def gradiente(x):\n",
    "    h = 0.0001\n",
    "    g = []\n",
    "    \n",
    "    for i in range(len(x)):\n",
    "        xh = x.copy()\n",
    "        xh[i] = xh[i] + h\n",
    "        dx = (fo(xh)-fo(x))/h\n",
    "        g.append(dx)\n",
    "    return g"
   ]
  },
  {
   "cell_type": "code",
   "execution_count": 3,
   "id": "ee93c1b5",
   "metadata": {},
   "outputs": [],
   "source": [
    "def metodoGradiente(x):\n",
    "    \n",
    "    ## Paradas\n",
    "    l = 0.00001 ## Limitador\n",
    "    erroX = l + 1\n",
    "    normaGradiente = l + 1\n",
    "    iteracoesMaximas = 100\n",
    "    parada = False\n",
    "    \n",
    "    ## Ponto de partida\n",
    "    iteracao = 0\n",
    "    xAnterior = x.copy()\n",
    "    \n",
    "    while(not parada):\n",
    "        d = -1*np.array(gradiente(x))\n",
    "        alpha = secaoAurea(d, x, l)\n",
    "        x = x + alpha * d\n",
    "        \n",
    "        print(x)\n",
    "        \n",
    "        erroX = np.linalg.norm(xAnterior - x)\n",
    "        \n",
    "        normaGradiente = np.linalg.norm(d)\n",
    "        \n",
    "        if(erroX <= l or normaGradiente <= l or iteracao >= iteracoesMaximas):\n",
    "            parada = True\n",
    "            \n",
    "        xAnterior = x.copy()\n",
    "        iteracao += 1\n",
    "    \n",
    "    xOtimo = x\n",
    "    return xOtimo"
   ]
  },
  {
   "cell_type": "code",
   "execution_count": 4,
   "id": "90cb4bfa",
   "metadata": {},
   "outputs": [
    {
     "name": "stdout",
     "output_type": "stream",
     "text": [
      "---------------- Método gradiente manual -------------------\n",
      "<class 'complex'>\n"
     ]
    },
    {
     "ename": "IndexError",
     "evalue": "list index out of range",
     "output_type": "error",
     "traceback": [
      "\u001b[0;31m---------------------------------------------------------------------------\u001b[0m",
      "\u001b[0;31mIndexError\u001b[0m                                Traceback (most recent call last)",
      "Cell \u001b[0;32mIn[4], line 5\u001b[0m\n\u001b[1;32m      2\u001b[0m x\u001b[38;5;241m.\u001b[39mappend(\u001b[38;5;28mcomplex\u001b[39m(\u001b[38;5;241m-\u001b[39m\u001b[38;5;241m6\u001b[39m,\u001b[38;5;241m18\u001b[39m))\n\u001b[1;32m      4\u001b[0m \u001b[38;5;28mprint\u001b[39m(\u001b[38;5;124m\"\u001b[39m\u001b[38;5;124m---------------- Método gradiente manual -------------------\u001b[39m\u001b[38;5;124m\"\u001b[39m)\n\u001b[0;32m----> 5\u001b[0m \u001b[38;5;28mprint\u001b[39m(\u001b[43mmetodoGradiente\u001b[49m\u001b[43m(\u001b[49m\u001b[43mx\u001b[49m\u001b[43m)\u001b[49m)\n\u001b[1;32m      6\u001b[0m \u001b[38;5;28mprint\u001b[39m(\u001b[38;5;124m\"\u001b[39m\u001b[38;5;124m---------------- Método gradiente da biblioteca do python -------------------\u001b[39m\u001b[38;5;124m\"\u001b[39m)\n\u001b[1;32m      7\u001b[0m \u001b[38;5;28mprint\u001b[39m(optimize\u001b[38;5;241m.\u001b[39mminimize(fo, x, method\u001b[38;5;241m=\u001b[39m\u001b[38;5;124m'\u001b[39m\u001b[38;5;124mCG\u001b[39m\u001b[38;5;124m'\u001b[39m))\n",
      "Cell \u001b[0;32mIn[3], line 15\u001b[0m, in \u001b[0;36mmetodoGradiente\u001b[0;34m(x)\u001b[0m\n\u001b[1;32m     12\u001b[0m xAnterior \u001b[38;5;241m=\u001b[39m x\u001b[38;5;241m.\u001b[39mcopy()\n\u001b[1;32m     14\u001b[0m \u001b[38;5;28;01mwhile\u001b[39;00m(\u001b[38;5;129;01mnot\u001b[39;00m parada):\n\u001b[0;32m---> 15\u001b[0m     d \u001b[38;5;241m=\u001b[39m \u001b[38;5;241m-\u001b[39m\u001b[38;5;241m1\u001b[39m\u001b[38;5;241m*\u001b[39mnp\u001b[38;5;241m.\u001b[39marray(\u001b[43mgradiente\u001b[49m\u001b[43m(\u001b[49m\u001b[43mx\u001b[49m\u001b[43m)\u001b[49m)\n\u001b[1;32m     16\u001b[0m     alpha \u001b[38;5;241m=\u001b[39m secaoAurea(d, x, l)\n\u001b[1;32m     17\u001b[0m     x \u001b[38;5;241m=\u001b[39m x \u001b[38;5;241m+\u001b[39m alpha \u001b[38;5;241m*\u001b[39m d\n",
      "Cell \u001b[0;32mIn[2], line 49\u001b[0m, in \u001b[0;36mgradiente\u001b[0;34m(x)\u001b[0m\n\u001b[1;32m     47\u001b[0m     xh \u001b[38;5;241m=\u001b[39m x\u001b[38;5;241m.\u001b[39mcopy()\n\u001b[1;32m     48\u001b[0m     xh[i] \u001b[38;5;241m=\u001b[39m xh[i] \u001b[38;5;241m+\u001b[39m h\n\u001b[0;32m---> 49\u001b[0m     dx \u001b[38;5;241m=\u001b[39m (\u001b[43mfo\u001b[49m\u001b[43m(\u001b[49m\u001b[43mxh\u001b[49m\u001b[43m)\u001b[49m\u001b[38;5;241m-\u001b[39mfo(x))\u001b[38;5;241m/\u001b[39mh\n\u001b[1;32m     50\u001b[0m     g\u001b[38;5;241m.\u001b[39mappend(dx)\n\u001b[1;32m     51\u001b[0m \u001b[38;5;28;01mreturn\u001b[39;00m g\n",
      "Cell \u001b[0;32mIn[2], line 4\u001b[0m, in \u001b[0;36mfo\u001b[0;34m(x)\u001b[0m\n\u001b[1;32m      2\u001b[0m \u001b[38;5;28;01mdef\u001b[39;00m \u001b[38;5;21mfo\u001b[39m(x):\n\u001b[1;32m      3\u001b[0m     \u001b[38;5;28mprint\u001b[39m(\u001b[38;5;28mtype\u001b[39m(x[\u001b[38;5;241m0\u001b[39m]))\n\u001b[0;32m----> 4\u001b[0m     \u001b[38;5;28;01mreturn\u001b[39;00m \u001b[38;5;28mabs\u001b[39m(x[\u001b[38;5;241m0\u001b[39m]\u001b[38;5;241m-\u001b[39m\u001b[38;5;28mcomplex\u001b[39m(\u001b[38;5;241m1\u001b[39m,\u001b[43mx\u001b[49m\u001b[43m[\u001b[49m\u001b[38;5;241;43m1\u001b[39;49m\u001b[43m]\u001b[49m))\n",
      "\u001b[0;31mIndexError\u001b[0m: list index out of range"
     ]
    }
   ],
   "source": [
    "x = []\n",
    "x.append(complex(-6,18))\n",
    "\n",
    "print(\"---------------- Método gradiente manual -------------------\")\n",
    "print(metodoGradiente(x))\n",
    "print(\"---------------- Método gradiente da biblioteca do python -------------------\")\n",
    "print(optimize.minimize(fo, x, method='CG'))"
   ]
  }
 ],
 "metadata": {
  "kernelspec": {
   "display_name": "Python 3 (ipykernel)",
   "language": "python",
   "name": "python3"
  },
  "language_info": {
   "codemirror_mode": {
    "name": "ipython",
    "version": 3
   },
   "file_extension": ".py",
   "mimetype": "text/x-python",
   "name": "python",
   "nbconvert_exporter": "python",
   "pygments_lexer": "ipython3",
   "version": "3.10.9"
  }
 },
 "nbformat": 4,
 "nbformat_minor": 5
}
