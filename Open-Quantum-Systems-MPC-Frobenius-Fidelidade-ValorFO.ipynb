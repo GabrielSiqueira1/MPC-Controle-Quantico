{
 "cells": [
  {
   "cell_type": "code",
   "execution_count": 1,
   "id": "5e0c1dd6-81e7-444d-9b40-387b090a148f",
   "metadata": {},
   "outputs": [],
   "source": [
    "# Bilbiotecas para auxílio na programação matemática\n",
    "import math, sys \n",
    "import numpy as np\n",
    "import sympy as sp\n",
    "import cmath\n",
    "import time\n",
    "\n",
    "from scipy import sparse # Produção das diagonais das matrizes\n",
    "from scipy.sparse import diags \n",
    "from scipy.linalg import expm\n",
    "\n",
    "# Plotagem 2D e 3D\n",
    "from mpl_toolkits.mplot3d import Axes3D\n",
    "import matplotlib.pyplot as plt\n",
    "from matplotlib import cm\n",
    "\n",
    "\n",
    "from os import path # Suficiente para manipulação de arquivos\n",
    "    \n",
    "# Para solução exata\n",
    "from scipy.special import hermite\n",
    "from math import factorial\n",
    "\n",
    "%matplotlib inline\n",
    "count = 0\n",
    "\n",
    "# Para otimização dos sistemas\n",
    "from scipy import optimize\n",
    "from random import randint, uniform, random\n",
    "from scipy.linalg import sqrtm"
   ]
  },
  {
   "cell_type": "code",
   "execution_count": 2,
   "id": "a5bd5dfc-848a-43aa-aec5-c05736d20c8f",
   "metadata": {},
   "outputs": [],
   "source": [
    "# Manipulação das matrizes, soma e subtração\n",
    "\n",
    "def somar(A, B):\n",
    "    C = []\n",
    "    num_linhas_a = len(A)\n",
    "    num_colunas_a = len(A[0])\n",
    "    \n",
    "    for i in range (num_linhas_a):\n",
    "        linha = [0]*num_colunas_a\n",
    "        C.append(linha)\n",
    "        for j in range(num_colunas_a):\n",
    "            C[i][j] = A[i][j] + B[i][j]\n",
    "\n",
    "    return C\n",
    "\n",
    "def sub(A, B):\n",
    "    C = []\n",
    "    num_linhas_a = len(A)\n",
    "    num_colunas_a = len(A[0])\n",
    "    \n",
    "    for i in range (num_linhas_a):\n",
    "        linha = [0]*num_colunas_a\n",
    "        C.append(linha)\n",
    "        for j in range(num_linhas_a):\n",
    "            C[i][j] = A[i][j] - B[i][j]\n",
    "\n",
    "    return C\n",
    "\n",
    "def sub2(A, B):\n",
    "    C = []\n",
    "    valor = 0\n",
    "    num_linhas_a = len(A)\n",
    "    num_colunas_a = len(A[0])\n",
    "    \n",
    "    for i in range (num_linhas_a):\n",
    "        linha = [0]*num_colunas_a\n",
    "        C.append(linha)\n",
    "        for j in range(num_linhas_a):\n",
    "            C[i][j] = (abs(A[i][j] - B[i][j]))**2\n",
    "            valor += C[i][j]\n",
    "\n",
    "    return valor"
   ]
  },
  {
   "cell_type": "code",
   "execution_count": 3,
   "id": "a0309b39-7ef2-434f-8fe7-ff147fcd4824",
   "metadata": {},
   "outputs": [
    {
     "name": "stdout",
     "output_type": "stream",
     "text": [
      "[[0. 0.]\n",
      " [0. 1.]]\n"
     ]
    }
   ],
   "source": [
    "## CONSTANTES PARA O CONTROLADOR\n",
    "\n",
    "# Considerações: constante de Planck verdadeira: 1, massa: 1\n",
    "\n",
    "TEMPO_ANALISE = 10 \n",
    "QUANTIDADE_PONTOS_AMOSTRAGEM = 100\n",
    "PASSO = TEMPO_ANALISE/QUANTIDADE_PONTOS_AMOSTRAGEM\n",
    "\n",
    "MIN_HORIZONTE = 3 # Horizonte mínimo da análise\n",
    "MAX_HORIZONTE = 30 # Horizonte máximo da análise\n",
    "\n",
    "# Com horizonte em 10, a avaliação dura em torno de 80 minutos \n",
    "\n",
    "DESEJADO = [[0.00],[1.00]] # [[c1];[c2]] = [[0.707],[-0.707]]\n",
    "RHO_DESEJADO = np.matmul(DESEJADO, np.transpose(DESEJADO))\n",
    "print(RHO_DESEJADO)\n",
    "\n",
    "# Determinação dos valores de início e fim da análise\n",
    "num = PASSO\n",
    "contador = 0\n",
    "while num < 1:\n",
    "    num *= 10\n",
    "    contador += 1\n",
    "\n",
    "EXPOENTE = contador\n",
    "INICIO_ANALISE = 0*10**(-EXPOENTE) # Tempo inicial da analise em um horizonte\n",
    "FINAL_ANALISE = (1*10**(-EXPOENTE))+PASSO # Tempo final da analise em um horizonte"
   ]
  },
  {
   "cell_type": "code",
   "execution_count": 4,
   "id": "82fa2d04-bd55-4a2a-8e72-0b5a27f48532",
   "metadata": {},
   "outputs": [],
   "source": [
    "## CONSTANTES PARA O ALGORITMO GENÉTICO\n",
    "\n",
    "ELITISMO = True\n",
    "PORCENTAGEM_ELITISMO = 0.20\n",
    "\n",
    "TAMANHO_POP = 50\n",
    "TAXA_MUTACAO = 0.10\n",
    "TAXA_CRUZAMENTO = 0.70\n",
    "GERACOES = 100\n",
    "\n",
    "# Valores mínimos e máximos para gerar uma população\n",
    "MIN = -5\n",
    "MAX = 5"
   ]
  },
  {
   "cell_type": "code",
   "execution_count": 5,
   "id": "e93219c1-72a2-4478-8fe8-d7521ad22300",
   "metadata": {},
   "outputs": [],
   "source": [
    "def dpsi_dt(t, ro, H, lbda): # A derivada da ro em relação ao tempo não tem dependência temporal\n",
    "    A = np.zeros((2,2), dtype=np.complex128)\n",
    "    M = [[0, -ro[0][1]], [-ro[1][0], 0]]\n",
    "    A = (np.dot(H,ro))-(np.dot(ro, H)) # [H,p]\n",
    "    return -1j*A+np.dot(M,lbda)\n",
    "\n",
    "# Runge-Kutta de quarta ordem\n",
    "\n",
    "def runge_kutta(onda, fator_runge_kutta, hamiltoniano, lbda, tempo_inicial = 0):\n",
    "\n",
    "    k1 = dpsi_dt(tempo_inicial, onda, hamiltoniano, lbda)\n",
    "    k2 = dpsi_dt(tempo_inicial + 0.5 * fator_runge_kutta, somar(onda, np.dot((0.5*fator_runge_kutta), k1)), hamiltoniano, lbda)\n",
    "    k3 = dpsi_dt(tempo_inicial + 0.5 * fator_runge_kutta, somar(onda, np.dot((0.5*fator_runge_kutta), k2)), hamiltoniano, lbda)\n",
    "    k4 = dpsi_dt(tempo_inicial + fator_runge_kutta, somar(onda, np.dot(fator_runge_kutta, k3)), hamiltoniano, lbda)\n",
    "    \n",
    "    ## y(i+1) = y(i) + h/6*(k1+2*k2+2*k3+k4)\n",
    "    \n",
    "    A = somar(np.dot(2,k3), k4)\n",
    "    B = somar(np.dot(2,k2), k1)\n",
    "    C = somar(A, B)\n",
    "\n",
    "    runge = somar(onda,np.dot((fator_runge_kutta / 6.0),(C)))\n",
    "    \n",
    "    return runge"
   ]
  },
  {
   "cell_type": "code",
   "execution_count": 6,
   "id": "7263fac8-fd07-4d28-9f0b-4058f6b32ede",
   "metadata": {},
   "outputs": [],
   "source": [
    "def func_objetivo(vetor_controles, tempo_atual, rho_desejado, \n",
    "                  rho_atual, H, horizonte, fator_runge_kutta, lbda):\n",
    "    \n",
    "    fo = 0\n",
    "    pos = 0\n",
    "    \n",
    "    tempo_inicial = INICIO_ANALISE\n",
    "    tempo_final = FINAL_ANALISE\n",
    "    \n",
    "    controles = np.zeros((2,2), dtype=np.complex128)\n",
    "    controles = [[0, complex(vetor_controles[0], vetor_controles[1])], [complex(vetor_controles[0], -vetor_controles[1]), 0]]\n",
    "    #controles = [[0, vetor_controles[0]], [vetor_controles[0], 0]]\n",
    "    \n",
    "    matriz_inicial = rho_atual\n",
    "\n",
    "    matriz_desejada = np.zeros((2,2),dtype=np.complex128)\n",
    "    hamiltoniano = H\n",
    "\n",
    "    H = [[np.exp(1j*np.pi*tempo_atual/2),0],[0,np.exp(3j*np.pi*tempo_atual/2)]]\n",
    "    U = H\n",
    "    U = np.asmatrix(U)\n",
    "    U_dagger = U.getH()\n",
    "    teste = np.dot(np.dot(U,rho_desejado),U_dagger)\n",
    "    matriz_desejada = np.squeeze(np.asarray(teste))\n",
    "\n",
    "    matriz_teste = (sub2(matriz_inicial, matriz_desejada))\n",
    "    \n",
    "    fo += np.sqrt(matriz_teste)\n",
    "\n",
    "    runge = runge_kutta(matriz_inicial, fator_runge_kutta, \n",
    "                        somar(hamiltoniano, controles), lbda, tempo_inicial = tempo_inicial)\n",
    "\n",
    "    matriz_inicial = runge\n",
    "\n",
    "    tempo_inicial = round(tempo_inicial+PASSO, EXPOENTE)\n",
    "    tempo_final = round(tempo_final+PASSO, EXPOENTE)\n",
    "    tempo = round(tempo_atual+PASSO, EXPOENTE)\n",
    "    pos += 2\n",
    "\n",
    "    while horizonte > 1:\n",
    "        \n",
    "        H = [[np.exp(1j*np.pi*tempo/2),0],[0,np.exp(3j*np.pi*tempo/2)]]\n",
    "        U = H\n",
    "        U = np.asmatrix(U)\n",
    "        U_dagger = U.getH()\n",
    "        teste = np.dot(np.dot(U,rho_desejado),U_dagger)\n",
    "        matriz_desejada = np.squeeze(np.asarray(teste))\n",
    "\n",
    "        matriz_teste = (sub2(matriz_inicial, matriz_desejada))\n",
    "    \n",
    "        fo += np.sqrt(matriz_teste)\n",
    "        \n",
    "        controles = [[0, complex(vetor_controles[pos], vetor_controles[pos+1])], [complex(vetor_controles[pos], -vetor_controles[pos+1]), 0]]\n",
    "        #controles = [[0, vetor_controles[0]], [vetor_controles[0], 0]]\n",
    "\n",
    "        runge = runge_kutta(matriz_inicial, fator_runge_kutta, \n",
    "                        somar(hamiltoniano, controles), lbda, tempo_inicial = tempo_inicial)\n",
    "\n",
    "        matriz_inicial = runge\n",
    "\n",
    "        tempo_inicial = round(tempo_inicial+PASSO, EXPOENTE)\n",
    "        tempo_final = round(tempo_final+PASSO, EXPOENTE)\n",
    "        tempo = round(tempo_atual+PASSO, EXPOENTE)\n",
    "        horizonte -= 1\n",
    "\n",
    "    return fo"
   ]
  },
  {
   "cell_type": "code",
   "execution_count": 7,
   "id": "cb87e3fb-1639-463f-adf9-94e165ccd163",
   "metadata": {},
   "outputs": [],
   "source": [
    "def main(horizonte, rho_inicial, lbda):\n",
    "    \n",
    "    u = [] # Controles \n",
    "    for i in range(0, 2*horizonte):\n",
    "        u.append(uniform(-1,1))\n",
    "\n",
    "    evolucao_1 = np.zeros((2,QUANTIDADE_PONTOS_AMOSTRAGEM), dtype=np.complex128)\n",
    "    evolucao_2 = np.zeros((2,QUANTIDADE_PONTOS_AMOSTRAGEM), dtype=np.complex128)\n",
    "        \n",
    "    # O que será retornado por essa função\n",
    "    \n",
    "    vetor_controles = np.zeros((2, QUANTIDADE_PONTOS_AMOSTRAGEM), dtype=np.complex128) # Valores de controle\n",
    "    valores_funcao_objetivo = np.zeros((1, QUANTIDADE_PONTOS_AMOSTRAGEM), dtype=np.complex128)\n",
    "    \n",
    "    H = np.zeros((2,2), dtype=np.complex128)\n",
    "    H = [[(1/2*np.pi), 0], [0, (3/2*np.pi)]]\n",
    "    fidelidade = []\n",
    "    \n",
    "    tempo = 0\n",
    "    pos = 0\n",
    "    while tempo < TEMPO_ANALISE:\n",
    "\n",
    "        evolucao_1[0][pos] = rho_inicial[0][0]\n",
    "        evolucao_1[1][pos] = rho_inicial[1][0]\n",
    "\n",
    "        evolucao_2[0][pos] = rho_inicial[0][1]\n",
    "        evolucao_2[1][pos] = rho_inicial[1][1]\n",
    "\n",
    "        bounds = [(-0.75,0.75)]\n",
    "    \n",
    "        resultado = optimize.minimize(func_objetivo, u, args=(tempo, RHO_DESEJADO, rho_inicial, H, horizonte, PASSO, lbda), bounds=bounds, method='L-BFGS-B')\n",
    "        \n",
    "        controle = np.zeros((2,2), dtype=np.complex128)\n",
    "\n",
    "        vetor_controles[0][pos] = resultado.x[0]\n",
    "        vetor_controles[1][pos] = resultado.x[1]\n",
    "\n",
    "        #print(f\"Controles: {complex(resultado.x[0],resultado.x[1])} e {complex(resultado.x[0],-resultado.x[1])}\\n-------------------------\")\n",
    "\n",
    "        valores_funcao_objetivo[0][pos] = func_objetivo(resultado.x, tempo, RHO_DESEJADO, rho_inicial, H, horizonte, PASSO, lbda)\n",
    "\n",
    "        controle = [[0, complex(resultado.x[0],resultado.x[1])],[complex(resultado.x[0],-resultado.x[1]), 0]]\n",
    "        #controle = [[0, resultado.x[0]],[resultado.x[0], 0]]\n",
    "        H = somar(H, controle)\n",
    "    \n",
    "        ## Adaptação da onda ao controle\n",
    "        \n",
    "        rho_avancado = runge_kutta(rho_inicial, PASSO, H, lbda, tempo_inicial = INICIO_ANALISE)\n",
    "        rho_inicial = rho_avancado\n",
    "        \n",
    "        # Reset\n",
    "        H = [[(1/2*np.pi), 0], [0, (3/2*np.pi)]]\n",
    "    \n",
    "        u = [] # Controles \n",
    "        for i in range(0, 2*horizonte):\n",
    "            u.append(resultado.x[0])\n",
    "            u.append(resultado.x[1])\n",
    "\n",
    "        fidelidade.append((np.trace(RHO_DESEJADO @ rho_inicial)))\n",
    "        pos += 1\n",
    "        tempo = round(tempo+PASSO, EXPOENTE)\n",
    "\n",
    "    print(f'O rho alcançado foi: {rho_inicial}')\n",
    "    print(f'A fidelidade do experimento é de: {(np.trace(np.sqrt(np.sqrt(rho_inicial)*RHO_DESEJADO*np.sqrt(rho_inicial))))**2}')\n",
    "    print(f'A fidelidade do experimento é de: {(np.trace(sqrtm(sqrtm(rho_inicial) @ RHO_DESEJADO @ sqrtm(rho_inicial))))}')\n",
    "    print(f'A fidelidade do experimento é de: {(np.trace(RHO_DESEJADO @ rho_inicial))}')\n",
    "    return evolucao_1, evolucao_2, vetor_controles, valores_funcao_objetivo, fidelidade\n",
    "    "
   ]
  },
  {
   "cell_type": "code",
   "execution_count": 8,
   "id": "baf19282-81ad-49d5-b228-84017d124c18",
   "metadata": {},
   "outputs": [],
   "source": [
    "# Plotagem 2D e 3D\n",
    "from mpl_toolkits.mplot3d import Axes3D\n",
    "import matplotlib.pyplot as plt\n",
    "from matplotlib import cm\n",
    "\n",
    "def plot_componentes(valores_onda,  evolucao_d, componente):\n",
    "    \n",
    "    ts1 = np.linspace(0, TEMPO_ANALISE, QUANTIDADE_PONTOS_AMOSTRAGEM)\n",
    "    ts2 = np.linspace(0, TEMPO_ANALISE, QUANTIDADE_PONTOS_AMOSTRAGEM)\n",
    "    \n",
    "    real_primeiro = [elemento.real for elemento in valores_onda[componente-1]]\n",
    "    imaginario_primeiro = [elemento.imag for elemento in valores_onda[componente-1]]\n",
    "    \n",
    "    real_segundo = [elemento.real for elemento in evolucao_d[componente-1]]\n",
    "    imaginario_segundo = [elemento.imag for elemento in evolucao_d[componente-1]]\n",
    "    \n",
    "    # Plotagem\n",
    "    plt.subplot(2,1,1)\n",
    "\n",
    "    plt.ylabel('Pesos') \n",
    "    plt.xlabel('Tempo') \n",
    "    plt.title(f\"{componente}ª coluna da matriz de densidade -> real\")\n",
    "    plt.plot(ts1, real_primeiro, color='r', marker='*', linewidth=1, markersize=1, label=\"primeiro\")\n",
    "    plt.plot(ts2, real_segundo, color='b', marker='o',  linewidth=1, markersize=1, label=\"segundo\")\n",
    "    plt.legend(loc='upper right')\n",
    "\n",
    "    plt.axis([0,TEMPO_ANALISE,-1,1])\n",
    "    \n",
    "    plt.subplot(2,1,2)\n",
    "\n",
    "    plt.ylabel('Imaginário') \n",
    "    plt.xlabel('Tempo') \n",
    "    plt.title(f\"{componente}ª coluna da matriz de densidade -> imaginário\")\n",
    "    plt.plot(ts1, imaginario_primeiro, color='r', marker='*', linewidth=1, markersize=1, label=\"primeiro\")\n",
    "    plt.plot(ts2, imaginario_segundo, color='b', marker='o',  linewidth=1, markersize=1, label=\"segundo\")\n",
    "    plt.legend(loc='upper right')\n",
    "\n",
    "    plt.axis([0,TEMPO_ANALISE,-1,1])\n",
    "\n",
    "    plt.tight_layout()\n",
    "    "
   ]
  },
  {
   "cell_type": "code",
   "execution_count": 9,
   "id": "e06d7382-937e-460e-86cc-2326507acb31",
   "metadata": {
    "scrolled": true
   },
   "outputs": [
    {
     "name": "stdout",
     "output_type": "stream",
     "text": [
      "O rho alcançado foi: [[np.complex128(0.004352355769914462+0j), np.complex128(-4.30349882951471e-09+9.991620319963557e-09j)], [np.complex128(-4.30349882951471e-09-9.991620319963557e-09j), np.complex128(0.9956476442300857+0j)]]\n",
      "A fidelidade do experimento é de: (0.9956476442300857+0j)\n",
      "A fidelidade do experimento é de: (0.9978214113618648+7.071033332740635e-25j)\n",
      "A fidelidade do experimento é de: (0.9956476442300857+0j)\n"
     ]
    }
   ],
   "source": [
    "PSI = np.ones((2,1), dtype=np.complex128)\n",
    "PSI = [[1.00],[0.00]]\n",
    "ro = np.matmul(PSI, np.transpose(PSI))\n",
    "lbda = 0.01\n",
    "evolucao_1, evolucao_2, vetor_controles, valores_funcao_objetivo_1, fidelidade_1 = main(10, ro, lbda)"
   ]
  },
  {
   "cell_type": "code",
   "execution_count": 10,
   "id": "e9b0049f-6fd8-4385-8d3e-d39943002ffd",
   "metadata": {},
   "outputs": [
    {
     "name": "stdout",
     "output_type": "stream",
     "text": [
      "O rho alcançado foi: [[np.complex128(0.02101557526237325+0j), np.complex128(-1.2081799509169907e-08-3.792936865798599e-08j)], [np.complex128(-1.2081799509169907e-08+3.792936865798599e-08j), np.complex128(0.9789844247376266+0j)]]\n",
      "A fidelidade do experimento é de: (0.9789844247376267+0j)\n",
      "A fidelidade do experimento é de: (0.9894365846388774+3.0120503424768685e-08j)\n",
      "A fidelidade do experimento é de: (0.9789844247376266+0j)\n"
     ]
    }
   ],
   "source": [
    "lbda = 0.05\n",
    "evolucao_1, evolucao_2, vetor_controles, valores_funcao_objetivo_2, fidelidade_2 = main(10, ro, lbda)"
   ]
  },
  {
   "cell_type": "code",
   "execution_count": 11,
   "id": "5aae5625-8cb8-400b-a39e-37f6d074caa7",
   "metadata": {},
   "outputs": [
    {
     "name": "stdout",
     "output_type": "stream",
     "text": [
      "O rho alcançado foi: [[np.complex128(0.041051993587519375+0j), np.complex128(3.1052348947175374e-08-6.606687798183568e-08j)], [np.complex128(3.1052348947175374e-08+6.606687798183568e-08j), np.complex128(0.958948006412481+0j)]]\n",
      "A fidelidade do experimento é de: (0.9589480064124811+0j)\n",
      "A fidelidade do experimento é de: (0.9792589568956183+3.043354673826215e-08j)\n",
      "A fidelidade do experimento é de: (0.958948006412481+0j)\n"
     ]
    }
   ],
   "source": [
    "lbda = 0.10\n",
    "evolucao_1, evolucao_2, vetor_controles, valores_funcao_objetivo_3, fidelidade_3 = main(10, ro, lbda)"
   ]
  },
  {
   "cell_type": "code",
   "execution_count": 12,
   "id": "5ba22b57-43ef-48f0-bb8e-739e01664e0a",
   "metadata": {},
   "outputs": [
    {
     "name": "stdout",
     "output_type": "stream",
     "text": [
      "O rho alcançado foi: [[np.complex128(0.060249064447031216+0j), np.complex128(2.3419786110407193e-08+2.5583232329115207e-08j)], [np.complex128(2.3419786110407193e-08-2.5583232329115207e-08j), np.complex128(0.9397509355529694+0j)]]\n",
      "A fidelidade do experimento é de: (0.9397509355529694+0j)\n",
      "A fidelidade do experimento é de: (0.9694076930390506-3.074282317605537e-08j)\n",
      "A fidelidade do experimento é de: (0.9397509355529694+0j)\n"
     ]
    }
   ],
   "source": [
    "lbda = 0.15\n",
    "evolucao_1, evolucao_2, vetor_controles, valores_funcao_objetivo_4, fidelidade_4 = main(10, ro, lbda)"
   ]
  },
  {
   "cell_type": "code",
   "execution_count": 13,
   "id": "9ef96d09-217f-401a-b60d-78fc4c9d10ee",
   "metadata": {},
   "outputs": [
    {
     "name": "stdout",
     "output_type": "stream",
     "text": [
      "O rho alcançado foi: [[np.complex128(0.07865206389019268+0j), np.complex128(3.595627437330793e-08+1.2588254227792608e-08j)], [np.complex128(3.595627437330793e-08-1.2588254227792608e-08j), np.complex128(0.9213479361098077+0j)]]\n",
      "A fidelidade do experimento é de: (0.9213479361098077+0j)\n",
      "A fidelidade do experimento é de: (0.9598689170398935+7.806597374734402e-25j)\n",
      "A fidelidade do experimento é de: (0.9213479361098077+0j)\n"
     ]
    }
   ],
   "source": [
    "lbda = 0.20\n",
    "evolucao_1, evolucao_2, vetor_controles, valores_funcao_objetivo_5, fidelidade_5 = main(10, ro, lbda)"
   ]
  },
  {
   "cell_type": "code",
   "execution_count": 14,
   "id": "69b01cb9-cf75-4a07-8811-f356e54b688d",
   "metadata": {},
   "outputs": [],
   "source": [
    "valores_funcao_objetivo = [valores_funcao_objetivo_1, valores_funcao_objetivo_2, valores_funcao_objetivo_3, valores_funcao_objetivo_4, valores_funcao_objetivo_5]"
   ]
  },
  {
   "cell_type": "code",
   "execution_count": 15,
   "id": "b023b9e7-c0d5-4bc9-b287-8e2d829fcf3b",
   "metadata": {},
   "outputs": [],
   "source": [
    "valores_fidelidade = [fidelidade_1, fidelidade_2, fidelidade_3, fidelidade_4, fidelidade_5]"
   ]
  },
  {
   "cell_type": "code",
   "execution_count": 16,
   "id": "dcf74ce6-57b6-48e8-af96-ce4b69b280f7",
   "metadata": {},
   "outputs": [],
   "source": [
    "def acao_controle(valor):\n",
    "    ts = np.linspace(0, TEMPO_ANALISE, QUANTIDADE_PONTOS_AMOSTRAGEM)\n",
    "\n",
    "    plt.ylabel('Valor da função objetivo')\n",
    "    plt.xlabel('Tempo (em segundos)')\n",
    "    plt.plot(ts, abs(valor[0][0]), color='k', marker='o', linewidth=1, markersize=5, label=r\"FO para $\\gamma = 0{,}01$\")\n",
    "    plt.plot(ts, abs(valor[1][0]), color='b', marker='^', linewidth=1, markersize=5, label=r\"FO para $\\gamma = 0{,}05$\")\n",
    "    plt.plot(ts, abs(valor[2][0]), color='g', marker='*', linewidth=1, markersize=5, label=r\"FO para $\\gamma = 0{,}10$\")\n",
    "    plt.plot(ts, abs(valor[3][0]), color='y', marker='8', linewidth=1, markersize=5, label=r\"FO para $\\gamma = 0{,}15$\")\n",
    "    plt.plot(ts, abs(valor[4][0]), color='r', marker='v', linewidth=1, markersize=5, label=r\"FO para $\\gamma = 0{,}20$\")\n",
    "    plt.legend(loc=\"upper right\")\n",
    "    plt.title(f\"Evolução da função objetivo\")\n",
    "    plt.grid()\n",
    "    plt.show()"
   ]
  },
  {
   "cell_type": "code",
   "execution_count": 17,
   "id": "3413565d-7ce1-4f7c-92df-1d118a78591a",
   "metadata": {},
   "outputs": [
    {
     "data": {
      "image/png": "[encoded data removed]",
      "text/plain": [
       "<Figure size 640x480 with 1 Axes>"
      ]
     },
     "metadata": {},
     "output_type": "display_data"
    }
   ],
   "source": [
    "acao_controle(valores_funcao_objetivo)"
   ]
  },
  {
   "cell_type": "code",
   "execution_count": 18,
   "id": "d65e0669-115e-40bb-9c9f-be8b8404e921",
   "metadata": {},
   "outputs": [],
   "source": [
    "def fidelidade(valor):\n",
    "    ts = np.linspace(0, TEMPO_ANALISE, QUANTIDADE_PONTOS_AMOSTRAGEM)\n",
    "\n",
    "    plt.ylabel('Valor da fidelidade')\n",
    "    plt.xlabel('Tempo (em segundos)')\n",
    "    plt.plot(ts, valor[0], color='k', marker='o', linewidth=1, markersize=5, label=r\"Fidelidade para $\\gamma = 0{,}01$\")\n",
    "    plt.plot(ts, valor[1], color='b', marker='^', linewidth=1, markersize=5, label=r\"Fidelidade para $\\gamma = 0{,}05$\")\n",
    "    plt.plot(ts, valor[2], color='g', marker='*', linewidth=1, markersize=5, label=r\"Fidelidade para $\\gamma = 0{,}10$\")\n",
    "    plt.plot(ts, valor[3], color='y', marker='8', linewidth=1, markersize=5, label=r\"Fidelidade para $\\gamma = 0{,}15$\")\n",
    "    plt.plot(ts, valor[4], color='r', marker='v', linewidth=1, markersize=5, label=r\"Fidelidade para $\\gamma = 0{,}20$\")\n",
    "    plt.legend(loc=\"lower right\")\n",
    "    plt.title(f\"Evolução da fidelidade\")\n",
    "    plt.grid()\n",
    "    plt.show()"
   ]
  },
  {
   "cell_type": "code",
   "execution_count": 19,
   "id": "d15e5799-6030-494b-9dbd-569013e5522d",
   "metadata": {},
   "outputs": [
    {
     "name": "stderr",
     "output_type": "stream",
     "text": [
      "/home/gabriel/.pyenv/versions/miniconda3-latest/lib/python3.12/site-packages/matplotlib/cbook.py:1762: ComplexWarning: Casting complex values to real discards the imaginary part\n",
      "  return math.isfinite(val)\n",
      "/home/gabriel/.pyenv/versions/miniconda3-latest/lib/python3.12/site-packages/matplotlib/cbook.py:1398: ComplexWarning: Casting complex values to real discards the imaginary part\n",
      "  return np.asarray(x, float)\n"
     ]
    },
    {
     "data": {
      "image/png": "[encoded data removed]",
      "text/plain": [
       "<Figure size 640x480 with 1 Axes>"
      ]
     },
     "metadata": {},
     "output_type": "display_data"
    }
   ],
   "source": [
    "fidelidade(valores_fidelidade)"
   ]
  }
 ],
 "metadata": {
  "kernelspec": {
   "display_name": "Python 3 (ipykernel)",
   "language": "python",
   "name": "python3"
  },
  "language_info": {
   "codemirror_mode": {
    "name": "ipython",
    "version": 3
   },
   "file_extension": ".py",
   "mimetype": "text/x-python",
   "name": "python",
   "nbconvert_exporter": "python",
   "pygments_lexer": "ipython3",
   "version": "3.12.4"
  }
 },
 "nbformat": 4,
 "nbformat_minor": 5
}
