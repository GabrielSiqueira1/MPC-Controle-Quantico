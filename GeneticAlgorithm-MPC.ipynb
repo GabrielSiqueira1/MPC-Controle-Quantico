{
 "cells": [
  {
   "cell_type": "markdown",
   "metadata": {},
   "source": [
    "<div align='center'>\n",
    "    <h2>Controle Quântico Ótimo</h2>\n",
    "    <h4>Utilização do Algoritmo Genético para obtenção dos valores de controle</h4>\n",
    "</div>\n",
    "\n",
    "<div align='justify'>\n",
    "    <p>Para que haja um controle ótimo de uma partícula, supondo que esta esteja em um estado inicial, é necessário formas de controle suficientemente eficientes já que a particula é a função de onda da partícula é definida em função do tempo. Para que isso seja possível utiliza-se a eficiência do algoritmo genético que pode usar ou não utilizar-se do elitismo juntamente com o controle preditivo, MPC. </p>\n",
    "    <p>Abaixo são revelados os parâmetros para esse experimento, do qual podem ser ajustados:</p>\n",
    "</div>"
   ]
  },
  {
   "cell_type": "code",
   "execution_count": null,
   "metadata": {},
   "outputs": [],
   "source": [
    "# Bilbiotecas para auxílio na programação matemática\n",
    "import math, sys \n",
    "import numpy as np\n",
    "import sympy as sp\n",
    "import cmath\n",
    "\n",
    "from scipy import sparse # Produção das diagonais das matrizes\n",
    "from scipy.sparse import diags \n",
    "\n",
    "# Plotagem 2D e 3D\n",
    "from mpl_toolkits.mplot3d import Axes3D\n",
    "import matplotlib.pyplot as plt\n",
    "from matplotlib import cm\n",
    "\n",
    "\n",
    "from os import path # Suficiente para manipulação de arquivos\n",
    "    \n",
    "# Para solução exata\n",
    "from scipy.special import hermite\n",
    "from math import factorial\n",
    "\n",
    "%matplotlib inline\n",
    "count = 0\n",
    "\n",
    "# Para otimização dos sistemas\n",
    "from scipy import optimize\n",
    "from random import randint, uniform, random"
   ]
  },
  {
   "cell_type": "code",
   "execution_count": null,
   "metadata": {},
   "outputs": [],
   "source": [
    "## CONSTANTES PARA O CONTROLADOR\n",
    "\n",
    "# Considerações: constante de Planck verdadeira: 1, massa: 1\n",
    "\n",
    "TEMPO_ANALISE = 10 \n",
    "QUANTIDADE_PONTOS_AMOSTRAGEM = 50\n",
    "PASSO_RUNGE_KUTTA = TEMPO_ANALISE/QUANTIDADE_PONTOS_AMOSTRAGEM\n",
    "\n",
    "\n",
    "MIN_HORIZONTE = 3 # Horizonte mínimo da análise\n",
    "MAX_HORIZONTE = 40 # Horizonte máximo da análise\n",
    "\n",
    "ONDA_DESEJADA = [[complex(1/np.sqrt(2),0.0)],[complex(1/np.sqrt(2),0.0)]] # [[c1];[c2]] = [[0.707];[0.707]]"
   ]
  },
  {
   "cell_type": "code",
   "execution_count": null,
   "metadata": {},
   "outputs": [],
   "source": [
    "## CONSTANTES PARA O ALGORITMO GENÉTICO\n",
    "\n",
    "ELITISMO = True\n",
    "TAM_POP = 50\n",
    "MIN = 0\n",
    "MAX = 5\n",
    "MUTACAO = 0.10\n",
    "CROSS = 0.70\n",
    "GERACOES = 100"
   ]
  }
 ],
 "metadata": {
  "language_info": {
   "name": "python"
  },
  "orig_nbformat": 4
 },
 "nbformat": 4,
 "nbformat_minor": 2
}
